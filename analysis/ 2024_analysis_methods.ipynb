{
 "cells": [
  {
   "cell_type": "markdown",
   "id": "27eabe70-2a69-483d-ad87-9d845053f484",
   "metadata": {},
   "source": [
    "What is ACE?\n",
    "\n",
    "The ACE program is a bus-mounted camera system that issues violations to vehicles occupying bus lanes, double parked vehicles along bus routes, and vehicles blocking bus stops. It is currently active on 39 bus routes that carry over 775K average weekday riders.\n",
    "\n",
    "\n",
    "What is ACE’s goal?\n",
    "\n",
    "ACE’s goal is to make bus service faster and more reliable by keeping bus lanes and bus stops clear.\n",
    "\n",
    "\n",
    "Has ACE been achieving their goals?\n",
    "\n",
    "Camera enforcement has sped up buses on the 39 targeted routes by an average of 5%, with some corridors seeing much larger gains of up to 30%"
   ]
  },
  {
   "cell_type": "code",
   "execution_count": 87,
   "id": "f034006b-0716-4b27-b970-31ee64d3c341",
   "metadata": {},
   "outputs": [],
   "source": [
    "import pandas as pd\n",
    "import numpy as np\n",
    "import matplotlib.pyplot as plt\n",
    "import os\n",
    "import pickle\n",
    "import requests\n",
    "import time\n",
    "import concurrent.futures\n",
    "import zipfile\n",
    "import io\n",
    "import glob\n",
    "import folium\n",
    "from tqdm import tqdm\n",
    "from datetime import date"
   ]
  },
  {
   "cell_type": "markdown",
   "id": "a8cf6928-0a1d-4a5f-8e3c-b279669da1ab",
   "metadata": {},
   "source": [
    "(1) Which MTA bus routes are highly utilized by CUNY students? For routes that are automated camera-enforced, how have bus speeds changed over time?\n",
    "\n",
    "\n",
    "\n",
    "Recommendation - Compare a bus route you or someone you know utilizes for campus. Compare this with another campus route and a route that is not ACE enforced.\n",
    "\n",
    "(2) Some vehicles stopped in violation are exempt from fines due to business reasons. For vehicles that are exempt, are there repeat offenders? Where are exempt vehicles frequently in violation?\n",
    "\n",
    "\n",
    "\n",
    "Recommendation - This problem is great for a mapping visualization! Choose a CUNY bus route that you are familiar with plot the long and latitude of where vehicles are in violation as well as the overall bus route.\n",
    "\n",
    "(3) Some automated camera-enforced routes travel within or cross Manhattan’s Central Business District. How have violations on these routes changed alongside the implementation of congestion pricing?\n",
    "\n",
    "\n",
    "\n",
    "Recommendation - Another great problem to share a mapping visualization. Map CUNY Bus Routes that run through the CBD before and after congestion pricing to show change in bus speeds."
   ]
  },
  {
   "cell_type": "code",
   "execution_count": 2,
   "id": "fbbf5c00-5507-40f2-bcb9-3722866aad37",
   "metadata": {},
   "outputs": [
    {
     "data": {
      "text/plain": [
       "Index(['Violation ID', 'Vehicle ID', 'First Occurrence', 'Last Occurrence',\n",
       "       'Violation Status', 'Violation Type', 'Bus Route ID',\n",
       "       'Violation Latitude', 'Violation Longitude', 'Stop ID', 'Stop Name',\n",
       "       'Bus Stop Latitude', 'Bus Stop Longitude', 'Violation Georeference',\n",
       "       'Bus Stop Georeference'],\n",
       "      dtype='object')"
      ]
     },
     "execution_count": 2,
     "metadata": {},
     "output_type": "execute_result"
    }
   ],
   "source": [
    "ace_violation_ds = pd.read_csv(\"MTA_Bus_Automated_Camera_Enforcement_Violations__Beginning_October_2019_20250917.csv\")\n",
    "ace_violation_ds.columns\n"
   ]
  },
  {
   "cell_type": "code",
   "execution_count": 3,
   "id": "23d21e04-0d16-44ba-8a17-c5b1a7dade63",
   "metadata": {},
   "outputs": [
    {
     "data": {
      "text/html": [
       "<div>\n",
       "<style scoped>\n",
       "    .dataframe tbody tr th:only-of-type {\n",
       "        vertical-align: middle;\n",
       "    }\n",
       "\n",
       "    .dataframe tbody tr th {\n",
       "        vertical-align: top;\n",
       "    }\n",
       "\n",
       "    .dataframe thead th {\n",
       "        text-align: right;\n",
       "    }\n",
       "</style>\n",
       "<table border=\"1\" class=\"dataframe\">\n",
       "  <thead>\n",
       "    <tr style=\"text-align: right;\">\n",
       "      <th></th>\n",
       "      <th>Violation ID</th>\n",
       "      <th>Vehicle ID</th>\n",
       "      <th>First Occurrence</th>\n",
       "      <th>Last Occurrence</th>\n",
       "      <th>Violation Status</th>\n",
       "      <th>Violation Type</th>\n",
       "      <th>Bus Route ID</th>\n",
       "      <th>Violation Latitude</th>\n",
       "      <th>Violation Longitude</th>\n",
       "      <th>Stop ID</th>\n",
       "      <th>Stop Name</th>\n",
       "      <th>Bus Stop Latitude</th>\n",
       "      <th>Bus Stop Longitude</th>\n",
       "      <th>Violation Georeference</th>\n",
       "      <th>Bus Stop Georeference</th>\n",
       "    </tr>\n",
       "  </thead>\n",
       "  <tbody>\n",
       "    <tr>\n",
       "      <th>0</th>\n",
       "      <td>489749182</td>\n",
       "      <td>c5ae1411153b52556a1e648cc80d718aa519a4bdd189ab...</td>\n",
       "      <td>08/20/2025 11:12:08 PM</td>\n",
       "      <td>08/21/2025 12:24:08 AM</td>\n",
       "      <td>TECHNICAL ISSUE/OTHER</td>\n",
       "      <td>MOBILE BUS STOP</td>\n",
       "      <td>BX36</td>\n",
       "      <td>40.840509</td>\n",
       "      <td>-73.881189</td>\n",
       "      <td>102498</td>\n",
       "      <td>EAST TREMONT AV/VYSE AV</td>\n",
       "      <td>40.841076</td>\n",
       "      <td>-73.882483</td>\n",
       "      <td>POINT (-73.881189 40.840509)</td>\n",
       "      <td>POINT (-73.882483 40.841076)</td>\n",
       "    </tr>\n",
       "    <tr>\n",
       "      <th>1</th>\n",
       "      <td>489744714</td>\n",
       "      <td>df9044acf85cf55488aea4cd3ce1d0e17ef050551726b6...</td>\n",
       "      <td>08/20/2025 11:48:59 PM</td>\n",
       "      <td>08/20/2025 11:54:47 PM</td>\n",
       "      <td>EXEMPT - BUS/PARATRANSIT</td>\n",
       "      <td>MOBILE BUS STOP</td>\n",
       "      <td>BX28</td>\n",
       "      <td>40.874017</td>\n",
       "      <td>-73.890646</td>\n",
       "      <td>100080</td>\n",
       "      <td>PAUL AV/BEDFORD PARK BLVD</td>\n",
       "      <td>40.874629</td>\n",
       "      <td>-73.891539</td>\n",
       "      <td>POINT (-73.890646 40.874017)</td>\n",
       "      <td>POINT (-73.891539 40.874629)</td>\n",
       "    </tr>\n",
       "    <tr>\n",
       "      <th>2</th>\n",
       "      <td>489743631</td>\n",
       "      <td>eb5a337966ba65f66ab1db8e169d2446a4fb429b0efc63...</td>\n",
       "      <td>08/20/2025 10:33:13 PM</td>\n",
       "      <td>08/20/2025 11:56:02 PM</td>\n",
       "      <td>TECHNICAL ISSUE/OTHER</td>\n",
       "      <td>MOBILE DOUBLE PARKED</td>\n",
       "      <td>Q53+</td>\n",
       "      <td>40.721971</td>\n",
       "      <td>-73.867136</td>\n",
       "      <td>550473</td>\n",
       "      <td>WOODHAVEN BLVD/PENELOPE AV</td>\n",
       "      <td>40.722487</td>\n",
       "      <td>-73.867736</td>\n",
       "      <td>POINT (-73.867136 40.721971)</td>\n",
       "      <td>POINT (-73.867736 40.722487)</td>\n",
       "    </tr>\n",
       "    <tr>\n",
       "      <th>3</th>\n",
       "      <td>489741945</td>\n",
       "      <td>3f877f70d9b253515a945be807c9c62d5814949f810310...</td>\n",
       "      <td>08/20/2025 10:50:45 PM</td>\n",
       "      <td>08/20/2025 11:32:43 PM</td>\n",
       "      <td>EXEMPT - OTHER</td>\n",
       "      <td>MOBILE BUS STOP</td>\n",
       "      <td>Q44+</td>\n",
       "      <td>40.762529</td>\n",
       "      <td>-73.831728</td>\n",
       "      <td>501140</td>\n",
       "      <td>UNION ST/35 AV</td>\n",
       "      <td>40.765422</td>\n",
       "      <td>-73.827944</td>\n",
       "      <td>POINT (-73.831728 40.762529)</td>\n",
       "      <td>POINT (-73.827944 40.765422)</td>\n",
       "    </tr>\n",
       "    <tr>\n",
       "      <th>4</th>\n",
       "      <td>489741940</td>\n",
       "      <td>7feac037b62d591ffb1214e356157f3dd197fc22fee5bb...</td>\n",
       "      <td>08/20/2025 10:52:57 AM</td>\n",
       "      <td>08/20/2025 11:16:57 AM</td>\n",
       "      <td>EXEMPT - EMERGENCY VEHICLE</td>\n",
       "      <td>MOBILE BUS STOP</td>\n",
       "      <td>M101</td>\n",
       "      <td>40.815113</td>\n",
       "      <td>-73.955040</td>\n",
       "      <td>401458</td>\n",
       "      <td>AMSTERDAM AV/W 131 ST</td>\n",
       "      <td>40.816009</td>\n",
       "      <td>-73.954424</td>\n",
       "      <td>POINT (-73.95504 40.815113)</td>\n",
       "      <td>POINT (-73.954424 40.816009)</td>\n",
       "    </tr>\n",
       "  </tbody>\n",
       "</table>\n",
       "</div>"
      ],
      "text/plain": [
       "   Violation ID                                         Vehicle ID  \\\n",
       "0     489749182  c5ae1411153b52556a1e648cc80d718aa519a4bdd189ab...   \n",
       "1     489744714  df9044acf85cf55488aea4cd3ce1d0e17ef050551726b6...   \n",
       "2     489743631  eb5a337966ba65f66ab1db8e169d2446a4fb429b0efc63...   \n",
       "3     489741945  3f877f70d9b253515a945be807c9c62d5814949f810310...   \n",
       "4     489741940  7feac037b62d591ffb1214e356157f3dd197fc22fee5bb...   \n",
       "\n",
       "         First Occurrence         Last Occurrence            Violation Status  \\\n",
       "0  08/20/2025 11:12:08 PM  08/21/2025 12:24:08 AM       TECHNICAL ISSUE/OTHER   \n",
       "1  08/20/2025 11:48:59 PM  08/20/2025 11:54:47 PM    EXEMPT - BUS/PARATRANSIT   \n",
       "2  08/20/2025 10:33:13 PM  08/20/2025 11:56:02 PM       TECHNICAL ISSUE/OTHER   \n",
       "3  08/20/2025 10:50:45 PM  08/20/2025 11:32:43 PM              EXEMPT - OTHER   \n",
       "4  08/20/2025 10:52:57 AM  08/20/2025 11:16:57 AM  EXEMPT - EMERGENCY VEHICLE   \n",
       "\n",
       "         Violation Type Bus Route ID  Violation Latitude  Violation Longitude  \\\n",
       "0       MOBILE BUS STOP         BX36           40.840509           -73.881189   \n",
       "1       MOBILE BUS STOP         BX28           40.874017           -73.890646   \n",
       "2  MOBILE DOUBLE PARKED         Q53+           40.721971           -73.867136   \n",
       "3       MOBILE BUS STOP         Q44+           40.762529           -73.831728   \n",
       "4       MOBILE BUS STOP         M101           40.815113           -73.955040   \n",
       "\n",
       "   Stop ID                   Stop Name  Bus Stop Latitude  Bus Stop Longitude  \\\n",
       "0   102498     EAST TREMONT AV/VYSE AV          40.841076          -73.882483   \n",
       "1   100080   PAUL AV/BEDFORD PARK BLVD          40.874629          -73.891539   \n",
       "2   550473  WOODHAVEN BLVD/PENELOPE AV          40.722487          -73.867736   \n",
       "3   501140              UNION ST/35 AV          40.765422          -73.827944   \n",
       "4   401458       AMSTERDAM AV/W 131 ST          40.816009          -73.954424   \n",
       "\n",
       "         Violation Georeference         Bus Stop Georeference  \n",
       "0  POINT (-73.881189 40.840509)  POINT (-73.882483 40.841076)  \n",
       "1  POINT (-73.890646 40.874017)  POINT (-73.891539 40.874629)  \n",
       "2  POINT (-73.867136 40.721971)  POINT (-73.867736 40.722487)  \n",
       "3  POINT (-73.831728 40.762529)  POINT (-73.827944 40.765422)  \n",
       "4   POINT (-73.95504 40.815113)  POINT (-73.954424 40.816009)  "
      ]
     },
     "execution_count": 3,
     "metadata": {},
     "output_type": "execute_result"
    }
   ],
   "source": [
    "ace_violation_ds.head()"
   ]
  },
  {
   "cell_type": "code",
   "execution_count": 4,
   "id": "018b6deb-7038-4dcd-a975-4ece7e0f21c0",
   "metadata": {},
   "outputs": [
    {
     "data": {
      "text/html": [
       "<div>\n",
       "<style scoped>\n",
       "    .dataframe tbody tr th:only-of-type {\n",
       "        vertical-align: middle;\n",
       "    }\n",
       "\n",
       "    .dataframe tbody tr th {\n",
       "        vertical-align: top;\n",
       "    }\n",
       "\n",
       "    .dataframe thead th {\n",
       "        text-align: right;\n",
       "    }\n",
       "</style>\n",
       "<table border=\"1\" class=\"dataframe\">\n",
       "  <thead>\n",
       "    <tr style=\"text-align: right;\">\n",
       "      <th></th>\n",
       "      <th>Violation ID</th>\n",
       "      <th>Vehicle ID</th>\n",
       "      <th>First Occurrence</th>\n",
       "      <th>Last Occurrence</th>\n",
       "      <th>Violation Status</th>\n",
       "      <th>Violation Type</th>\n",
       "      <th>Bus Route ID</th>\n",
       "      <th>Violation Latitude</th>\n",
       "      <th>Violation Longitude</th>\n",
       "      <th>Stop ID</th>\n",
       "      <th>Stop Name</th>\n",
       "      <th>Bus Stop Latitude</th>\n",
       "      <th>Bus Stop Longitude</th>\n",
       "      <th>Violation Georeference</th>\n",
       "      <th>Bus Stop Georeference</th>\n",
       "    </tr>\n",
       "  </thead>\n",
       "  <tbody>\n",
       "    <tr>\n",
       "      <th>3778563</th>\n",
       "      <td>215529785</td>\n",
       "      <td>7c86bc81ee2cc6902d3588132fb15c13a61e2d53bb379f...</td>\n",
       "      <td>10/07/2019 07:14:15 AM</td>\n",
       "      <td>10/07/2019 09:32:52 AM</td>\n",
       "      <td>TECHNICAL ISSUE/OTHER</td>\n",
       "      <td>MOBILE BUS LANE</td>\n",
       "      <td>M15+</td>\n",
       "      <td>40.736718</td>\n",
       "      <td>-73.981533</td>\n",
       "      <td>401779</td>\n",
       "      <td>2 AV/E 23 ST</td>\n",
       "      <td>40.737516</td>\n",
       "      <td>-73.981202</td>\n",
       "      <td>POINT (-73.98153283 40.736718)</td>\n",
       "      <td>POINT (-73.981202 40.737516)</td>\n",
       "    </tr>\n",
       "    <tr>\n",
       "      <th>3778564</th>\n",
       "      <td>215529313</td>\n",
       "      <td>NaN</td>\n",
       "      <td>10/07/2019 07:46:17 AM</td>\n",
       "      <td>10/07/2019 08:59:26 AM</td>\n",
       "      <td>DRIVER/VEHICLE INFO MISSING</td>\n",
       "      <td>MOBILE BUS LANE</td>\n",
       "      <td>M15+</td>\n",
       "      <td>40.783963</td>\n",
       "      <td>-73.947290</td>\n",
       "      <td>405347</td>\n",
       "      <td>2 AV/E 106 ST</td>\n",
       "      <td>40.790860</td>\n",
       "      <td>-73.942431</td>\n",
       "      <td>POINT (-73.9472905 40.78396317)</td>\n",
       "      <td>POINT (-73.942431 40.79086)</td>\n",
       "    </tr>\n",
       "    <tr>\n",
       "      <th>3778565</th>\n",
       "      <td>215529148</td>\n",
       "      <td>981a9958b7d133d4181bab81f397b32743a3c9512d36df...</td>\n",
       "      <td>10/07/2019 08:48:22 AM</td>\n",
       "      <td>10/07/2019 09:02:04 AM</td>\n",
       "      <td>VIOLATION ISSUED</td>\n",
       "      <td>MOBILE BUS LANE</td>\n",
       "      <td>M15+</td>\n",
       "      <td>40.801421</td>\n",
       "      <td>-73.934522</td>\n",
       "      <td>401738</td>\n",
       "      <td>2 AV/E 125 ST</td>\n",
       "      <td>40.802473</td>\n",
       "      <td>-73.933855</td>\n",
       "      <td>POINT (-73.93452183 40.801421)</td>\n",
       "      <td>POINT (-73.933855 40.802473)</td>\n",
       "    </tr>\n",
       "    <tr>\n",
       "      <th>3778566</th>\n",
       "      <td>215520437</td>\n",
       "      <td>NaN</td>\n",
       "      <td>10/07/2019 09:31:50 AM</td>\n",
       "      <td>10/07/2019 09:46:58 AM</td>\n",
       "      <td>DRIVER/VEHICLE INFO MISSING</td>\n",
       "      <td>MOBILE BUS LANE</td>\n",
       "      <td>M15+</td>\n",
       "      <td>40.758721</td>\n",
       "      <td>-73.965715</td>\n",
       "      <td>401765</td>\n",
       "      <td>2 AV/E 57 ST</td>\n",
       "      <td>40.758987</td>\n",
       "      <td>-73.965601</td>\n",
       "      <td>POINT (-73.96571483 40.758721)</td>\n",
       "      <td>POINT (-73.965601 40.758987)</td>\n",
       "    </tr>\n",
       "    <tr>\n",
       "      <th>3778567</th>\n",
       "      <td>215520220</td>\n",
       "      <td>7b5f5c2b127271c84694812b5d9ef964042fdc9a437a10...</td>\n",
       "      <td>10/07/2019 09:16:01 AM</td>\n",
       "      <td>10/07/2019 09:28:13 AM</td>\n",
       "      <td>TECHNICAL ISSUE/OTHER</td>\n",
       "      <td>MOBILE BUS LANE</td>\n",
       "      <td>M15+</td>\n",
       "      <td>40.783154</td>\n",
       "      <td>-73.947905</td>\n",
       "      <td>401749</td>\n",
       "      <td>2 AV/E 96 ST</td>\n",
       "      <td>40.783817</td>\n",
       "      <td>-73.947494</td>\n",
       "      <td>POINT (-73.94790483 40.783154)</td>\n",
       "      <td>POINT (-73.947494 40.783817)</td>\n",
       "    </tr>\n",
       "  </tbody>\n",
       "</table>\n",
       "</div>"
      ],
      "text/plain": [
       "         Violation ID                                         Vehicle ID  \\\n",
       "3778563     215529785  7c86bc81ee2cc6902d3588132fb15c13a61e2d53bb379f...   \n",
       "3778564     215529313                                                NaN   \n",
       "3778565     215529148  981a9958b7d133d4181bab81f397b32743a3c9512d36df...   \n",
       "3778566     215520437                                                NaN   \n",
       "3778567     215520220  7b5f5c2b127271c84694812b5d9ef964042fdc9a437a10...   \n",
       "\n",
       "               First Occurrence         Last Occurrence  \\\n",
       "3778563  10/07/2019 07:14:15 AM  10/07/2019 09:32:52 AM   \n",
       "3778564  10/07/2019 07:46:17 AM  10/07/2019 08:59:26 AM   \n",
       "3778565  10/07/2019 08:48:22 AM  10/07/2019 09:02:04 AM   \n",
       "3778566  10/07/2019 09:31:50 AM  10/07/2019 09:46:58 AM   \n",
       "3778567  10/07/2019 09:16:01 AM  10/07/2019 09:28:13 AM   \n",
       "\n",
       "                    Violation Status   Violation Type Bus Route ID  \\\n",
       "3778563        TECHNICAL ISSUE/OTHER  MOBILE BUS LANE         M15+   \n",
       "3778564  DRIVER/VEHICLE INFO MISSING  MOBILE BUS LANE         M15+   \n",
       "3778565             VIOLATION ISSUED  MOBILE BUS LANE         M15+   \n",
       "3778566  DRIVER/VEHICLE INFO MISSING  MOBILE BUS LANE         M15+   \n",
       "3778567        TECHNICAL ISSUE/OTHER  MOBILE BUS LANE         M15+   \n",
       "\n",
       "         Violation Latitude  Violation Longitude  Stop ID      Stop Name  \\\n",
       "3778563           40.736718           -73.981533   401779   2 AV/E 23 ST   \n",
       "3778564           40.783963           -73.947290   405347  2 AV/E 106 ST   \n",
       "3778565           40.801421           -73.934522   401738  2 AV/E 125 ST   \n",
       "3778566           40.758721           -73.965715   401765   2 AV/E 57 ST   \n",
       "3778567           40.783154           -73.947905   401749   2 AV/E 96 ST   \n",
       "\n",
       "         Bus Stop Latitude  Bus Stop Longitude  \\\n",
       "3778563          40.737516          -73.981202   \n",
       "3778564          40.790860          -73.942431   \n",
       "3778565          40.802473          -73.933855   \n",
       "3778566          40.758987          -73.965601   \n",
       "3778567          40.783817          -73.947494   \n",
       "\n",
       "                  Violation Georeference         Bus Stop Georeference  \n",
       "3778563   POINT (-73.98153283 40.736718)  POINT (-73.981202 40.737516)  \n",
       "3778564  POINT (-73.9472905 40.78396317)   POINT (-73.942431 40.79086)  \n",
       "3778565   POINT (-73.93452183 40.801421)  POINT (-73.933855 40.802473)  \n",
       "3778566   POINT (-73.96571483 40.758721)  POINT (-73.965601 40.758987)  \n",
       "3778567   POINT (-73.94790483 40.783154)  POINT (-73.947494 40.783817)  "
      ]
     },
     "execution_count": 4,
     "metadata": {},
     "output_type": "execute_result"
    }
   ],
   "source": [
    "ace_violation_ds.tail()"
   ]
  },
  {
   "cell_type": "code",
   "execution_count": 33,
   "id": "b453b6a4-885a-4105-9748-0db38e5e61f3",
   "metadata": {},
   "outputs": [
    {
     "data": {
      "text/html": [
       "<div>\n",
       "<style scoped>\n",
       "    .dataframe tbody tr th:only-of-type {\n",
       "        vertical-align: middle;\n",
       "    }\n",
       "\n",
       "    .dataframe tbody tr th {\n",
       "        vertical-align: top;\n",
       "    }\n",
       "\n",
       "    .dataframe thead th {\n",
       "        text-align: right;\n",
       "    }\n",
       "</style>\n",
       "<table border=\"1\" class=\"dataframe\">\n",
       "  <thead>\n",
       "    <tr style=\"text-align: right;\">\n",
       "      <th></th>\n",
       "      <th>Violation ID</th>\n",
       "      <th>Vehicle ID</th>\n",
       "      <th>First Occurrence</th>\n",
       "      <th>Last Occurrence</th>\n",
       "      <th>Violation Status</th>\n",
       "      <th>Violation Type</th>\n",
       "      <th>Bus Route ID</th>\n",
       "      <th>Violation Latitude</th>\n",
       "      <th>Violation Longitude</th>\n",
       "      <th>Stop ID</th>\n",
       "      <th>Stop Name</th>\n",
       "      <th>Bus Stop Latitude</th>\n",
       "      <th>Bus Stop Longitude</th>\n",
       "      <th>Violation Georeference</th>\n",
       "      <th>Bus Stop Georeference</th>\n",
       "    </tr>\n",
       "  </thead>\n",
       "  <tbody>\n",
       "    <tr>\n",
       "      <th>3538702</th>\n",
       "      <td>302418921</td>\n",
       "      <td>62457604b49622dae3fe44b0a21846c5b31dca9ceb49c8...</td>\n",
       "      <td>2022-01-02 07:42:00</td>\n",
       "      <td>01/02/2022 10:09:00 AM</td>\n",
       "      <td>VIOLATION ISSUED</td>\n",
       "      <td>MOBILE BUS LANE</td>\n",
       "      <td>M15+</td>\n",
       "      <td>40.794488</td>\n",
       "      <td>-73.939594</td>\n",
       "      <td>405348</td>\n",
       "      <td>2 AV/E 115 ST</td>\n",
       "      <td>40.795919</td>\n",
       "      <td>-73.938770</td>\n",
       "      <td>POINT (-73.93959433 40.794488)</td>\n",
       "      <td>POINT (-73.93877 40.795919)</td>\n",
       "    </tr>\n",
       "    <tr>\n",
       "      <th>3538705</th>\n",
       "      <td>302396677</td>\n",
       "      <td>f13f21602832553d73c27dadb056d038455d84c24bb07f...</td>\n",
       "      <td>2022-01-02 08:31:09</td>\n",
       "      <td>01/02/2022 09:33:55 AM</td>\n",
       "      <td>EXEMPT - EMERGENCY VEHICLE</td>\n",
       "      <td>MOBILE BUS LANE</td>\n",
       "      <td>M15+</td>\n",
       "      <td>40.758545</td>\n",
       "      <td>-73.962715</td>\n",
       "      <td>401701</td>\n",
       "      <td>1 AV/MITCHELL PL</td>\n",
       "      <td>40.753591</td>\n",
       "      <td>-73.966311</td>\n",
       "      <td>POINT (-73.96271467 40.75854517)</td>\n",
       "      <td>POINT (-73.966311 40.753591)</td>\n",
       "    </tr>\n",
       "    <tr>\n",
       "      <th>3538704</th>\n",
       "      <td>302399543</td>\n",
       "      <td>329c9853689c163d187dd1a5d5c47a9be59673936cee11...</td>\n",
       "      <td>2022-01-02 09:25:25</td>\n",
       "      <td>01/02/2022 09:42:36 AM</td>\n",
       "      <td>DRIVER/VEHICLE INFO MISSING</td>\n",
       "      <td>MOBILE BUS LANE</td>\n",
       "      <td>M15+</td>\n",
       "      <td>40.786063</td>\n",
       "      <td>-73.942578</td>\n",
       "      <td>903102</td>\n",
       "      <td>1 AV/ E 97 ST</td>\n",
       "      <td>40.784225</td>\n",
       "      <td>-73.943936</td>\n",
       "      <td>POINT (-73.9425785 40.78606317)</td>\n",
       "      <td>POINT (-73.943936 40.784225)</td>\n",
       "    </tr>\n",
       "    <tr>\n",
       "      <th>3538701</th>\n",
       "      <td>302419153</td>\n",
       "      <td>ff2a33c7507c9d86890d0d9e7e7ac38cccc92419133e0b...</td>\n",
       "      <td>2022-01-02 10:06:12</td>\n",
       "      <td>01/02/2022 11:20:39 AM</td>\n",
       "      <td>TECHNICAL ISSUE/OTHER</td>\n",
       "      <td>MOBILE BUS LANE</td>\n",
       "      <td>M14+</td>\n",
       "      <td>40.732872</td>\n",
       "      <td>-73.985623</td>\n",
       "      <td>401191</td>\n",
       "      <td>E 14 ST/3 AV</td>\n",
       "      <td>40.733008</td>\n",
       "      <td>-73.986729</td>\n",
       "      <td>POINT (-73.9856225 40.7328725)</td>\n",
       "      <td>POINT (-73.986729 40.733008)</td>\n",
       "    </tr>\n",
       "    <tr>\n",
       "      <th>3538699</th>\n",
       "      <td>302419206</td>\n",
       "      <td>6b384b49a0085a160c3fcae7b9186c9dabd0d43190d5b8...</td>\n",
       "      <td>2022-01-02 11:14:40</td>\n",
       "      <td>01/02/2022 11:20:36 AM</td>\n",
       "      <td>TECHNICAL ISSUE/OTHER</td>\n",
       "      <td>MOBILE BUS LANE</td>\n",
       "      <td>M14+</td>\n",
       "      <td>40.732968</td>\n",
       "      <td>-73.985882</td>\n",
       "      <td>401191</td>\n",
       "      <td>E 14 ST/3 AV</td>\n",
       "      <td>40.733008</td>\n",
       "      <td>-73.986729</td>\n",
       "      <td>POINT (-73.98588183 40.73296783)</td>\n",
       "      <td>POINT (-73.986729 40.733008)</td>\n",
       "    </tr>\n",
       "  </tbody>\n",
       "</table>\n",
       "</div>"
      ],
      "text/plain": [
       "         Violation ID                                         Vehicle ID  \\\n",
       "3538702     302418921  62457604b49622dae3fe44b0a21846c5b31dca9ceb49c8...   \n",
       "3538705     302396677  f13f21602832553d73c27dadb056d038455d84c24bb07f...   \n",
       "3538704     302399543  329c9853689c163d187dd1a5d5c47a9be59673936cee11...   \n",
       "3538701     302419153  ff2a33c7507c9d86890d0d9e7e7ac38cccc92419133e0b...   \n",
       "3538699     302419206  6b384b49a0085a160c3fcae7b9186c9dabd0d43190d5b8...   \n",
       "\n",
       "           First Occurrence         Last Occurrence  \\\n",
       "3538702 2022-01-02 07:42:00  01/02/2022 10:09:00 AM   \n",
       "3538705 2022-01-02 08:31:09  01/02/2022 09:33:55 AM   \n",
       "3538704 2022-01-02 09:25:25  01/02/2022 09:42:36 AM   \n",
       "3538701 2022-01-02 10:06:12  01/02/2022 11:20:39 AM   \n",
       "3538699 2022-01-02 11:14:40  01/02/2022 11:20:36 AM   \n",
       "\n",
       "                    Violation Status   Violation Type Bus Route ID  \\\n",
       "3538702             VIOLATION ISSUED  MOBILE BUS LANE         M15+   \n",
       "3538705   EXEMPT - EMERGENCY VEHICLE  MOBILE BUS LANE         M15+   \n",
       "3538704  DRIVER/VEHICLE INFO MISSING  MOBILE BUS LANE         M15+   \n",
       "3538701        TECHNICAL ISSUE/OTHER  MOBILE BUS LANE         M14+   \n",
       "3538699        TECHNICAL ISSUE/OTHER  MOBILE BUS LANE         M14+   \n",
       "\n",
       "         Violation Latitude  Violation Longitude  Stop ID         Stop Name  \\\n",
       "3538702           40.794488           -73.939594   405348     2 AV/E 115 ST   \n",
       "3538705           40.758545           -73.962715   401701  1 AV/MITCHELL PL   \n",
       "3538704           40.786063           -73.942578   903102     1 AV/ E 97 ST   \n",
       "3538701           40.732872           -73.985623   401191      E 14 ST/3 AV   \n",
       "3538699           40.732968           -73.985882   401191      E 14 ST/3 AV   \n",
       "\n",
       "         Bus Stop Latitude  Bus Stop Longitude  \\\n",
       "3538702          40.795919          -73.938770   \n",
       "3538705          40.753591          -73.966311   \n",
       "3538704          40.784225          -73.943936   \n",
       "3538701          40.733008          -73.986729   \n",
       "3538699          40.733008          -73.986729   \n",
       "\n",
       "                   Violation Georeference         Bus Stop Georeference  \n",
       "3538702    POINT (-73.93959433 40.794488)   POINT (-73.93877 40.795919)  \n",
       "3538705  POINT (-73.96271467 40.75854517)  POINT (-73.966311 40.753591)  \n",
       "3538704   POINT (-73.9425785 40.78606317)  POINT (-73.943936 40.784225)  \n",
       "3538701    POINT (-73.9856225 40.7328725)  POINT (-73.986729 40.733008)  \n",
       "3538699  POINT (-73.98588183 40.73296783)  POINT (-73.986729 40.733008)  "
      ]
     },
     "execution_count": 33,
     "metadata": {},
     "output_type": "execute_result"
    }
   ],
   "source": [
    "# Convert the 'First Occurrence' column to a proper datetime format accounting for 8/20/2022 to 8/20/2025\n",
    "ace_violation_ds['First Occurrence'] = pd.to_datetime(ace_violation_ds['First Occurrence'])\n",
    "start_date = '2022-01-01'\n",
    "end_date = '2024-12-31'\n",
    "filtered_df = ace_violation_ds[\n",
    "    (ace_violation_ds['First Occurrence'] >= start_date) & \n",
    "    (ace_violation_ds['First Occurrence'] <= end_date)\n",
    "]\n",
    "sorted_df = filtered_df.sort_values(by='First Occurrence')\n",
    "sorted_df.head()"
   ]
  },
  {
   "cell_type": "code",
   "execution_count": 34,
   "id": "53bcfa70-1e7d-48e2-ad45-180fc066c307",
   "metadata": {},
   "outputs": [
    {
     "data": {
      "text/html": [
       "<div>\n",
       "<style scoped>\n",
       "    .dataframe tbody tr th:only-of-type {\n",
       "        vertical-align: middle;\n",
       "    }\n",
       "\n",
       "    .dataframe tbody tr th {\n",
       "        vertical-align: top;\n",
       "    }\n",
       "\n",
       "    .dataframe thead th {\n",
       "        text-align: right;\n",
       "    }\n",
       "</style>\n",
       "<table border=\"1\" class=\"dataframe\">\n",
       "  <thead>\n",
       "    <tr style=\"text-align: right;\">\n",
       "      <th></th>\n",
       "      <th>Violation ID</th>\n",
       "      <th>Vehicle ID</th>\n",
       "      <th>First Occurrence</th>\n",
       "      <th>Last Occurrence</th>\n",
       "      <th>Violation Status</th>\n",
       "      <th>Violation Type</th>\n",
       "      <th>Bus Route ID</th>\n",
       "      <th>Violation Latitude</th>\n",
       "      <th>Violation Longitude</th>\n",
       "      <th>Stop ID</th>\n",
       "      <th>Stop Name</th>\n",
       "      <th>Bus Stop Latitude</th>\n",
       "      <th>Bus Stop Longitude</th>\n",
       "      <th>Violation Georeference</th>\n",
       "      <th>Bus Stop Georeference</th>\n",
       "    </tr>\n",
       "  </thead>\n",
       "  <tbody>\n",
       "    <tr>\n",
       "      <th>1678307</th>\n",
       "      <td>452232689</td>\n",
       "      <td>8c8c3903e4ee259558cc9b5b3d1fe4b9070da4bc7027d2...</td>\n",
       "      <td>2024-12-30 23:54:08</td>\n",
       "      <td>12/30/2024 11:59:08 PM</td>\n",
       "      <td>VIOLATION ISSUED</td>\n",
       "      <td>MOBILE BUS STOP</td>\n",
       "      <td>Q54</td>\n",
       "      <td>40.703632</td>\n",
       "      <td>-73.799539</td>\n",
       "      <td>501422</td>\n",
       "      <td>170 ST/JAMAICA AV</td>\n",
       "      <td>40.707549</td>\n",
       "      <td>-73.789882</td>\n",
       "      <td>POINT (-73.799539 40.703632)</td>\n",
       "      <td>POINT (-73.789882 40.707549)</td>\n",
       "    </tr>\n",
       "    <tr>\n",
       "      <th>1682066</th>\n",
       "      <td>452138724</td>\n",
       "      <td>d30f3f77237b8b9f21e3891a085b0b6c86b567b1f88298...</td>\n",
       "      <td>2024-12-30 23:54:33</td>\n",
       "      <td>12/30/2024 11:57:56 PM</td>\n",
       "      <td>VIOLATION ISSUED</td>\n",
       "      <td>MOBILE BUS STOP</td>\n",
       "      <td>B35</td>\n",
       "      <td>40.651585</td>\n",
       "      <td>-74.004411</td>\n",
       "      <td>302783</td>\n",
       "      <td>39 ST/3 AV</td>\n",
       "      <td>40.653699</td>\n",
       "      <td>-74.007835</td>\n",
       "      <td>POINT (-74.004411 40.651585)</td>\n",
       "      <td>POINT (-74.007835 40.653699)</td>\n",
       "    </tr>\n",
       "    <tr>\n",
       "      <th>1682218</th>\n",
       "      <td>452138281</td>\n",
       "      <td>70a2a76a2aefca05055374daf60f348ad4df2d5ef963c8...</td>\n",
       "      <td>2024-12-30 23:55:38</td>\n",
       "      <td>12/30/2024 11:58:30 PM</td>\n",
       "      <td>VIOLATION ISSUED</td>\n",
       "      <td>MOBILE BUS STOP</td>\n",
       "      <td>B35</td>\n",
       "      <td>40.649806</td>\n",
       "      <td>-74.001468</td>\n",
       "      <td>302783</td>\n",
       "      <td>39 ST/3 AV</td>\n",
       "      <td>40.653699</td>\n",
       "      <td>-74.007835</td>\n",
       "      <td>POINT (-74.001468 40.649806)</td>\n",
       "      <td>POINT (-74.007835 40.653699)</td>\n",
       "    </tr>\n",
       "    <tr>\n",
       "      <th>1682231</th>\n",
       "      <td>452138182</td>\n",
       "      <td>9cfed6ec5ddbc3516b5d404fff8bcc369ccbf86d887e14...</td>\n",
       "      <td>2024-12-30 23:56:10</td>\n",
       "      <td>12/30/2024 11:59:11 PM</td>\n",
       "      <td>VIOLATION ISSUED</td>\n",
       "      <td>MOBILE BUS STOP</td>\n",
       "      <td>B35</td>\n",
       "      <td>40.648517</td>\n",
       "      <td>-73.999335</td>\n",
       "      <td>302783</td>\n",
       "      <td>39 ST/3 AV</td>\n",
       "      <td>40.653699</td>\n",
       "      <td>-74.007835</td>\n",
       "      <td>POINT (-73.999335 40.648517)</td>\n",
       "      <td>POINT (-74.007835 40.653699)</td>\n",
       "    </tr>\n",
       "    <tr>\n",
       "      <th>1677837</th>\n",
       "      <td>452235576</td>\n",
       "      <td>7f30cea65da8a1540bcf0640699b2cbc0ff2be727e3592...</td>\n",
       "      <td>2024-12-30 23:56:17</td>\n",
       "      <td>12/31/2024 10:25:16 PM</td>\n",
       "      <td>VIOLATION ISSUED</td>\n",
       "      <td>MOBILE BUS STOP</td>\n",
       "      <td>Q53+</td>\n",
       "      <td>40.745826</td>\n",
       "      <td>-73.900883</td>\n",
       "      <td>553332</td>\n",
       "      <td>ROOSEVELT AV/61 ST</td>\n",
       "      <td>40.745673</td>\n",
       "      <td>-73.902110</td>\n",
       "      <td>POINT (-73.900883 40.745826)</td>\n",
       "      <td>POINT (-73.90211 40.745673)</td>\n",
       "    </tr>\n",
       "  </tbody>\n",
       "</table>\n",
       "</div>"
      ],
      "text/plain": [
       "         Violation ID                                         Vehicle ID  \\\n",
       "1678307     452232689  8c8c3903e4ee259558cc9b5b3d1fe4b9070da4bc7027d2...   \n",
       "1682066     452138724  d30f3f77237b8b9f21e3891a085b0b6c86b567b1f88298...   \n",
       "1682218     452138281  70a2a76a2aefca05055374daf60f348ad4df2d5ef963c8...   \n",
       "1682231     452138182  9cfed6ec5ddbc3516b5d404fff8bcc369ccbf86d887e14...   \n",
       "1677837     452235576  7f30cea65da8a1540bcf0640699b2cbc0ff2be727e3592...   \n",
       "\n",
       "           First Occurrence         Last Occurrence  Violation Status  \\\n",
       "1678307 2024-12-30 23:54:08  12/30/2024 11:59:08 PM  VIOLATION ISSUED   \n",
       "1682066 2024-12-30 23:54:33  12/30/2024 11:57:56 PM  VIOLATION ISSUED   \n",
       "1682218 2024-12-30 23:55:38  12/30/2024 11:58:30 PM  VIOLATION ISSUED   \n",
       "1682231 2024-12-30 23:56:10  12/30/2024 11:59:11 PM  VIOLATION ISSUED   \n",
       "1677837 2024-12-30 23:56:17  12/31/2024 10:25:16 PM  VIOLATION ISSUED   \n",
       "\n",
       "          Violation Type Bus Route ID  Violation Latitude  \\\n",
       "1678307  MOBILE BUS STOP          Q54           40.703632   \n",
       "1682066  MOBILE BUS STOP          B35           40.651585   \n",
       "1682218  MOBILE BUS STOP          B35           40.649806   \n",
       "1682231  MOBILE BUS STOP          B35           40.648517   \n",
       "1677837  MOBILE BUS STOP         Q53+           40.745826   \n",
       "\n",
       "         Violation Longitude  Stop ID           Stop Name  Bus Stop Latitude  \\\n",
       "1678307           -73.799539   501422   170 ST/JAMAICA AV          40.707549   \n",
       "1682066           -74.004411   302783          39 ST/3 AV          40.653699   \n",
       "1682218           -74.001468   302783          39 ST/3 AV          40.653699   \n",
       "1682231           -73.999335   302783          39 ST/3 AV          40.653699   \n",
       "1677837           -73.900883   553332  ROOSEVELT AV/61 ST          40.745673   \n",
       "\n",
       "         Bus Stop Longitude        Violation Georeference  \\\n",
       "1678307          -73.789882  POINT (-73.799539 40.703632)   \n",
       "1682066          -74.007835  POINT (-74.004411 40.651585)   \n",
       "1682218          -74.007835  POINT (-74.001468 40.649806)   \n",
       "1682231          -74.007835  POINT (-73.999335 40.648517)   \n",
       "1677837          -73.902110  POINT (-73.900883 40.745826)   \n",
       "\n",
       "                Bus Stop Georeference  \n",
       "1678307  POINT (-73.789882 40.707549)  \n",
       "1682066  POINT (-74.007835 40.653699)  \n",
       "1682218  POINT (-74.007835 40.653699)  \n",
       "1682231  POINT (-74.007835 40.653699)  \n",
       "1677837   POINT (-73.90211 40.745673)  "
      ]
     },
     "execution_count": 34,
     "metadata": {},
     "output_type": "execute_result"
    }
   ],
   "source": [
    "sorted_df.tail()"
   ]
  },
  {
   "cell_type": "code",
   "execution_count": 35,
   "id": "10f37dcd-1b96-40e1-b890-510b503e6095",
   "metadata": {},
   "outputs": [],
   "source": [
    "sorted_df.to_pickle('filtered_mta_violations.pkl')"
   ]
  },
  {
   "cell_type": "code",
   "execution_count": 2,
   "id": "617feceb-6fa1-40d2-a0ce-35829aa78cef",
   "metadata": {},
   "outputs": [],
   "source": [
    "with open('filtered_mta_violations.pkl', 'rb') as f:\n",
    "    sorted_df = pickle.load(f)"
   ]
  },
  {
   "cell_type": "code",
   "execution_count": 3,
   "id": "4403190d-2555-461d-ad98-055516053bfa",
   "metadata": {},
   "outputs": [
    {
     "name": "stdout",
     "output_type": "stream",
     "text": [
      "borough\n",
      "BX (Bronx)           746596\n",
      "M (Manhattan)        450481\n",
      "B (Brooklyn)         335891\n",
      "Q (Queens)           278071\n",
      "S (Staten Island)     39526\n",
      "Other                 10619\n",
      "Name: count, dtype: int64\n"
     ]
    }
   ],
   "source": [
    "def bus_route_borough(route):\n",
    "    if pd.isna(route):\n",
    "        return 'Other'\n",
    "    route_str = str(route).upper()\n",
    "\n",
    "    if route_str.startswith(('BM', 'BXM', 'QM', 'SIM', 'X')):\n",
    "        return 'Express / Cross-Borough'\n",
    "    elif route_str.startswith('BX'):\n",
    "        return 'BX (Bronx)'\n",
    "    elif route_str.startswith('B'):\n",
    "        return 'B (Brooklyn)'\n",
    "    elif route_str.startswith('Q'):\n",
    "        return 'Q (Queens)'\n",
    "    elif route_str.startswith('M'):\n",
    "        return 'M (Manhattan)'\n",
    "    elif route_str.startswith('S'):\n",
    "        return 'S (Staten Island)'\n",
    "    else:\n",
    "        return 'Other'\n",
    "\n",
    "\n",
    "sorted_df['borough'] = sorted_df['Bus Route ID'].apply(bus_route_borough)\n",
    "print(sorted_df['borough'].value_counts())\n",
    "borough_count = sorted_df['borough'].value_counts()"
   ]
  },
  {
   "cell_type": "code",
   "execution_count": 4,
   "id": "7aaaa4f1-5e37-4977-ae65-fd72fbbd3b49",
   "metadata": {},
   "outputs": [
    {
     "name": "stdout",
     "output_type": "stream",
     "text": [
      "Found 0 violations from express bus routes.\n"
     ]
    }
   ],
   "source": [
    "column_name = \"Bus Route ID\"\n",
    "express_mask = sorted_df[column_name].str.upper().str.startswith(('BM', 'BXM', 'QM', 'SIM', 'X'), na=False)\n",
    "express_violations = sorted_df[express_mask]\n",
    "print(f\"Found {len(express_violations)} violations from express bus routes.\")"
   ]
  },
  {
   "cell_type": "code",
   "execution_count": 5,
   "id": "c7d72aa4-1812-4a99-a0f9-ded0962799f5",
   "metadata": {},
   "outputs": [
    {
     "data": {
      "text/plain": [
       "(np.float64(-1.099998981258781),\n",
       " np.float64(1.0999881835191196),\n",
       " np.float64(-1.0999927708170887),\n",
       " np.float64(1.0999982485727213))"
      ]
     },
     "execution_count": 5,
     "metadata": {},
     "output_type": "execute_result"
    },
    {
     "data": {
      "image/png": "[encoded data removed]",
      "text/plain": [
       "<Figure size 1200x900 with 1 Axes>"
      ]
     },
     "metadata": {},
     "output_type": "display_data"
    }
   ],
   "source": [
    "plt.style.use('seaborn-v0_8-whitegrid')\n",
    "plt.figure(figsize=(12, 9))\n",
    "wedges, texts, autotexts = plt.pie(\n",
    "        borough_count, \n",
    "        labels=borough_count.index, \n",
    "        autopct='%1.1f%%',\n",
    "        startangle=140,\n",
    "        pctdistance=0.85,\n",
    "        textprops={'fontsize': 12}\n",
    "    )\n",
    "\n",
    "plt.setp(autotexts, size=10, weight=\"bold\", color=\"white\")\n",
    "plt.title('Distribution of Bus Violations by Borough', fontsize=16, pad=20)\n",
    "plt.axis('equal')"
   ]
  },
  {
   "cell_type": "code",
   "execution_count": 24,
   "id": "c80210a8-ea07-4438-adae-825e3c2a68b6",
   "metadata": {},
   "outputs": [
    {
     "data": {
      "text/plain": [
       "Violation Status\n",
       "VIOLATION ISSUED                1230807\n",
       "EXEMPT - EMERGENCY VEHICLE       127727\n",
       "TECHNICAL ISSUE/OTHER            127003\n",
       "DRIVER/VEHICLE INFO MISSING      120154\n",
       "EXEMPT - COMMERCIAL UNDER 20     111798\n",
       "EXEMPT - BUS/PARATRANSIT          85682\n",
       "EXEMPT - OTHER                    58013\n",
       "Name: count, dtype: int64"
      ]
     },
     "execution_count": 24,
     "metadata": {},
     "output_type": "execute_result"
    }
   ],
   "source": [
    "sorted_df[\"Violation Status\"].value_counts()"
   ]
  },
  {
   "cell_type": "markdown",
   "id": "691a13e9-6d72-4539-ab72-651cfecb0118",
   "metadata": {},
   "source": [
    " Pulling MTA Bus Hourly Ridership: 2020-2024 but I just want 2022 to 2024"
   ]
  },
  {
   "cell_type": "code",
   "execution_count": 8,
   "id": "e9d8d07f-d4f9-4a43-ac7f-97c3df64623a",
   "metadata": {},
   "outputs": [
    {
     "name": "stdout",
     "output_type": "stream",
     "text": [
      "Asking API for total record count...\n",
      "Found 83,889,144 records in 1678 pages. Chunks will be saved to 'ridership_chunks_final/'\n"
     ]
    },
    {
     "name": "stderr",
     "output_type": "stream",
     "text": [
      "Downloading and saving chunks: 100%|███████████████████████████████████████████████████████████████████████████████████████| 1678/1678 [25:36<00:00,  1.09it/s]"
     ]
    },
    {
     "name": "stdout",
     "output_type": "stream",
     "text": [
      "\n",
      "Finished downloading all chunks to the 'ridership_chunks_final' directory.\n"
     ]
    },
    {
     "name": "stderr",
     "output_type": "stream",
     "text": [
      "\n"
     ]
    }
   ],
   "source": [
    "LIMIT = 50000\n",
    "MAX_WORKERS = 10\n",
    "BASE_URL = \"https://data.ny.gov/resource/kv7t-n8in.json\"\n",
    "WHERE_CLAUSE = \"transit_timestamp >= '2024-01-01' AND transit_timestamp <= '2024-12-31'\"\n",
    "OUTPUT_DIR = \"ridership_chunks_final\" # Directory to save temporary files\n",
    "\n",
    "# Create the output directory if it doesn't exist\n",
    "os.makedirs(OUTPUT_DIR, exist_ok=True)\n",
    "\n",
    "print(\"Asking API for total record count...\")\n",
    "count_params = {'$where': WHERE_CLAUSE, '$select': 'count(*)'}\n",
    "response = requests.get(BASE_URL, params=count_params)\n",
    "total_records = int(response.json()[0]['count'])\n",
    "total_pages = math.ceil(total_records / LIMIT)\n",
    "print(f\"Found {total_records:,} records in {total_pages} pages. Chunks will be saved to '{OUTPUT_DIR}/'\")\n",
    "\n",
    "\n",
    "def fetch_and_save_page(offset):\n",
    "    \"\"\"Fetches a single page of data, with retries, and saves it to a file.\"\"\"\n",
    "    params = {'$where': WHERE_CLAUSE, '$limit': LIMIT, '$offset': offset}\n",
    "    # --- Retry Loop ---\n",
    "    for attempt in range(3): # Try up to 3 times\n",
    "        try:\n",
    "            response = requests.get(BASE_URL, params=params, timeout=30) # Add a 30-second timeout\n",
    "            response.raise_for_status() # Raises an HTTPError for bad responses (4xx or 5xx)\n",
    "            data = response.json()\n",
    "            if data:\n",
    "                df_chunk = pd.DataFrame(data)\n",
    "                df_chunk.to_parquet(f'{OUTPUT_DIR}/chunk_{offset}.parquet')\n",
    "            return len(data) # Success\n",
    "        except requests.exceptions.RequestException as e:\n",
    "            # If an error occurs, wait 5 seconds before the next attempt\n",
    "            time.sleep(5) \n",
    "    # If all attempts fail, this page is skipped.\n",
    "    return 0 \n",
    "\n",
    "\n",
    "offsets = [i * LIMIT for i in range(total_pages)]\n",
    "with concurrent.futures.ThreadPoolExecutor(max_workers=MAX_WORKERS) as executor:\n",
    "    list(tqdm(executor.map(fetch_and_save_page, offsets), total=total_pages, desc=\"Downloading and saving chunks\"))\n",
    "\n",
    "print(f\"\\nFinished downloading all chunks to the '{OUTPUT_DIR}' directory.\")"
   ]
  },
  {
   "cell_type": "markdown",
   "id": "6f982bd6-23e8-4822-ae46-c06e6ef51075",
   "metadata": {},
   "source": [
    "Convert to dataframe for ease of access"
   ]
  },
  {
   "cell_type": "code",
   "execution_count": null,
   "id": "9e5a6a08-793a-4ba4-a6bb-a1b491855d2e",
   "metadata": {},
   "outputs": [],
   "source": [
    "pip install \"dask[dataframe]\" pyarrow"
   ]
  },
  {
   "cell_type": "code",
   "execution_count": 12,
   "id": "7f4e0449-ce8c-43e1-9c04-8140c8876cb5",
   "metadata": {},
   "outputs": [
    {
     "name": "stdout",
     "output_type": "stream",
     "text": [
      "Total rows in the dataset: 83889144\n"
     ]
    },
    {
     "data": {
      "text/html": [
       "<div>\n",
       "<style scoped>\n",
       "    .dataframe tbody tr th:only-of-type {\n",
       "        vertical-align: middle;\n",
       "    }\n",
       "\n",
       "    .dataframe tbody tr th {\n",
       "        vertical-align: top;\n",
       "    }\n",
       "\n",
       "    .dataframe thead th {\n",
       "        text-align: right;\n",
       "    }\n",
       "</style>\n",
       "<table border=\"1\" class=\"dataframe\">\n",
       "  <thead>\n",
       "    <tr style=\"text-align: right;\">\n",
       "      <th></th>\n",
       "      <th>transit_timestamp</th>\n",
       "      <th>bus_route</th>\n",
       "      <th>payment_method</th>\n",
       "      <th>fare_class_category</th>\n",
       "      <th>ridership</th>\n",
       "      <th>transfers</th>\n",
       "    </tr>\n",
       "  </thead>\n",
       "  <tbody>\n",
       "    <tr>\n",
       "      <th>0</th>\n",
       "      <td>2024-01-01T00:00:00.000</td>\n",
       "      <td>S52</td>\n",
       "      <td>omny</td>\n",
       "      <td>OMNY - Full Fare</td>\n",
       "      <td>2</td>\n",
       "      <td>1</td>\n",
       "    </tr>\n",
       "    <tr>\n",
       "      <th>1</th>\n",
       "      <td>2024-01-01T00:00:00.000</td>\n",
       "      <td>S55</td>\n",
       "      <td>metrocard</td>\n",
       "      <td>OMNY - Students</td>\n",
       "      <td>0</td>\n",
       "      <td>0</td>\n",
       "    </tr>\n",
       "    <tr>\n",
       "      <th>2</th>\n",
       "      <td>2024-01-01T00:00:00.000</td>\n",
       "      <td>S89</td>\n",
       "      <td>metrocard</td>\n",
       "      <td>Metrocard - Other</td>\n",
       "      <td>0</td>\n",
       "      <td>0</td>\n",
       "    </tr>\n",
       "    <tr>\n",
       "      <th>3</th>\n",
       "      <td>2024-01-01T00:00:00.000</td>\n",
       "      <td>S89</td>\n",
       "      <td>metrocard</td>\n",
       "      <td>OMNY - Other</td>\n",
       "      <td>0</td>\n",
       "      <td>0</td>\n",
       "    </tr>\n",
       "    <tr>\n",
       "      <th>4</th>\n",
       "      <td>2024-01-01T00:00:00.000</td>\n",
       "      <td>S94</td>\n",
       "      <td>omny</td>\n",
       "      <td>OMNY - Full Fare</td>\n",
       "      <td>0</td>\n",
       "      <td>0</td>\n",
       "    </tr>\n",
       "  </tbody>\n",
       "</table>\n",
       "</div>"
      ],
      "text/plain": [
       "         transit_timestamp bus_route payment_method fare_class_category  \\\n",
       "0  2024-01-01T00:00:00.000       S52           omny    OMNY - Full Fare   \n",
       "1  2024-01-01T00:00:00.000       S55      metrocard     OMNY - Students   \n",
       "2  2024-01-01T00:00:00.000       S89      metrocard   Metrocard - Other   \n",
       "3  2024-01-01T00:00:00.000       S89      metrocard        OMNY - Other   \n",
       "4  2024-01-01T00:00:00.000       S94           omny    OMNY - Full Fare   \n",
       "\n",
       "  ridership transfers  \n",
       "0         2         1  \n",
       "1         0         0  \n",
       "2         0         0  \n",
       "3         0         0  \n",
       "4         0         0  "
      ]
     },
     "execution_count": 12,
     "metadata": {},
     "output_type": "execute_result"
    }
   ],
   "source": [
    "import dask.dataframe as dd\n",
    "\n",
    "# Dask reads all the Parquet files in the directory as a single, virtual DataFrame\n",
    "ridership = dd.read_parquet('ridership_chunks_final/')\n",
    "\n",
    "print(f\"Total rows in the dataset: {len(ridership)}\")\n",
    "\n",
    "ridership.head()"
   ]
  },
  {
   "cell_type": "code",
   "execution_count": 13,
   "id": "ffa5e7f9-e819-4889-9c0e-3683bdfb39ad",
   "metadata": {},
   "outputs": [
    {
     "data": {
      "text/html": [
       "<div>\n",
       "<style scoped>\n",
       "    .dataframe tbody tr th:only-of-type {\n",
       "        vertical-align: middle;\n",
       "    }\n",
       "\n",
       "    .dataframe tbody tr th {\n",
       "        vertical-align: top;\n",
       "    }\n",
       "\n",
       "    .dataframe thead th {\n",
       "        text-align: right;\n",
       "    }\n",
       "</style>\n",
       "<table border=\"1\" class=\"dataframe\">\n",
       "  <thead>\n",
       "    <tr style=\"text-align: right;\">\n",
       "      <th></th>\n",
       "      <th>transit_timestamp</th>\n",
       "      <th>bus_route</th>\n",
       "      <th>payment_method</th>\n",
       "      <th>fare_class_category</th>\n",
       "      <th>ridership</th>\n",
       "      <th>transfers</th>\n",
       "    </tr>\n",
       "  </thead>\n",
       "  <tbody>\n",
       "    <tr>\n",
       "      <th>39139</th>\n",
       "      <td>2024-12-31T00:00:00.000</td>\n",
       "      <td>X21</td>\n",
       "      <td>omny</td>\n",
       "      <td>Metrocard - Unlimited 7-Day</td>\n",
       "      <td>0</td>\n",
       "      <td>0</td>\n",
       "    </tr>\n",
       "    <tr>\n",
       "      <th>39140</th>\n",
       "      <td>2024-12-31T00:00:00.000</td>\n",
       "      <td>X3</td>\n",
       "      <td>omny</td>\n",
       "      <td>Metrocard - Full Fare</td>\n",
       "      <td>0</td>\n",
       "      <td>0</td>\n",
       "    </tr>\n",
       "    <tr>\n",
       "      <th>39141</th>\n",
       "      <td>2024-12-31T00:00:00.000</td>\n",
       "      <td>X31</td>\n",
       "      <td>metrocard</td>\n",
       "      <td>Metrocard - Unlimited 30-Day</td>\n",
       "      <td>0</td>\n",
       "      <td>0</td>\n",
       "    </tr>\n",
       "    <tr>\n",
       "      <th>39142</th>\n",
       "      <td>2024-12-31T00:00:00.000</td>\n",
       "      <td>X38</td>\n",
       "      <td>metrocard</td>\n",
       "      <td>Metrocard - Other</td>\n",
       "      <td>0</td>\n",
       "      <td>0</td>\n",
       "    </tr>\n",
       "    <tr>\n",
       "      <th>39143</th>\n",
       "      <td>2024-12-31T00:00:00.000</td>\n",
       "      <td>X68</td>\n",
       "      <td>omny</td>\n",
       "      <td>Metrocard - Students</td>\n",
       "      <td>0</td>\n",
       "      <td>0</td>\n",
       "    </tr>\n",
       "  </tbody>\n",
       "</table>\n",
       "</div>"
      ],
      "text/plain": [
       "             transit_timestamp bus_route payment_method  \\\n",
       "39139  2024-12-31T00:00:00.000       X21           omny   \n",
       "39140  2024-12-31T00:00:00.000        X3           omny   \n",
       "39141  2024-12-31T00:00:00.000       X31      metrocard   \n",
       "39142  2024-12-31T00:00:00.000       X38      metrocard   \n",
       "39143  2024-12-31T00:00:00.000       X68           omny   \n",
       "\n",
       "                fare_class_category ridership transfers  \n",
       "39139   Metrocard - Unlimited 7-Day         0         0  \n",
       "39140         Metrocard - Full Fare         0         0  \n",
       "39141  Metrocard - Unlimited 30-Day         0         0  \n",
       "39142             Metrocard - Other         0         0  \n",
       "39143          Metrocard - Students         0         0  "
      ]
     },
     "execution_count": 13,
     "metadata": {},
     "output_type": "execute_result"
    }
   ],
   "source": [
    "ridership.tail()"
   ]
  },
  {
   "cell_type": "code",
   "execution_count": 16,
   "id": "319c3bd7-6f66-4f34-a39c-d1c1407df46f",
   "metadata": {},
   "outputs": [
    {
     "name": "stdout",
     "output_type": "stream",
     "text": [
      "fare_class_category\n",
      "OMNY - Seniors & Disability         6990762\n",
      "Metrocard - Unlimited 7-Day         6990762\n",
      "Metrocard - Fair Fare               6990762\n",
      "Metrocard - Seniors & Disability    6990762\n",
      "Metrocard - Unlimited 30-Day        6990762\n",
      "Metrocard - Students                6990762\n",
      "Metrocard - Other                   6990762\n",
      "OMNY - Fair Fare                    6990762\n",
      "OMNY - Students                     6990762\n",
      "OMNY - Other                        6990762\n",
      "Metrocard - Full Fare               6990762\n",
      "OMNY - Full Fare                    6990762\n",
      "Name: count, dtype: int64[pyarrow]\n"
     ]
    }
   ],
   "source": [
    "count = ridership['fare_class_category'].value_counts()\n",
    "final = count.compute()\n",
    "print(final)"
   ]
  },
  {
   "cell_type": "code",
   "execution_count": 17,
   "id": "6c4c1ca1-6b55-4460-99e8-a6c520f9b410",
   "metadata": {},
   "outputs": [
    {
     "name": "stdout",
     "output_type": "stream",
     "text": [
      "Value counts for a single chunk:\n",
      "fare_class_category\n",
      "Metrocard - Students                4187\n",
      "OMNY - Other                        4182\n",
      "Metrocard - Full Fare               4179\n",
      "OMNY - Students                     4172\n",
      "Metrocard - Unlimited 7-Day         4172\n",
      "OMNY - Fair Fare                    4171\n",
      "Metrocard - Seniors & Disability    4167\n",
      "OMNY - Seniors & Disability         4160\n",
      "Metrocard - Fair Fare               4160\n",
      "Metrocard - Other                   4159\n",
      "Metrocard - Unlimited 30-Day        4153\n",
      "OMNY - Full Fare                    4138\n",
      "Name: count, dtype: int64\n"
     ]
    }
   ],
   "source": [
    "# Load just the first downloaded chunk into pandas\n",
    "df_chunk = pd.read_parquet('ridership_chunks_final/chunk_0.parquet')\n",
    "\n",
    "# Check the value counts for this single chunk\n",
    "print(\"Value counts for a single chunk:\")\n",
    "print(df_chunk['fare_class_category'].value_counts())"
   ]
  },
  {
   "cell_type": "code",
   "execution_count": 20,
   "id": "e764433b-5ee6-4052-aa2a-51a801193dd2",
   "metadata": {},
   "outputs": [
    {
     "name": "stdout",
     "output_type": "stream",
     "text": [
      "Value counts for a single chunk:\n",
      "fare_class_category\n",
      "OMNY - Full Fare                    4207\n",
      "OMNY - Seniors & Disability         4196\n",
      "OMNY - Fair Fare                    4186\n",
      "Metrocard - Seniors & Disability    4185\n",
      "Metrocard - Fair Fare               4180\n",
      "Metrocard - Unlimited 30-Day        4173\n",
      "OMNY - Students                     4171\n",
      "Metrocard - Other                   4162\n",
      "Metrocard - Full Fare               4155\n",
      "Metrocard - Unlimited 7-Day         4144\n",
      "OMNY - Other                        4137\n",
      "Metrocard - Students                4104\n",
      "Name: count, dtype: int64\n"
     ]
    }
   ],
   "source": [
    "# Load just the first downloaded chunk into pandas\n",
    "df_chunk = pd.read_parquet('ridership_chunks_final/chunk_50000.parquet')\n",
    "\n",
    "# Check the value counts for this single chunk\n",
    "print(\"Value counts for a single chunk:\")\n",
    "print(df_chunk['fare_class_category'].value_counts())"
   ]
  },
  {
   "cell_type": "code",
   "execution_count": 23,
   "id": "0f1e98df-f868-4762-825d-fa1822eb1269",
   "metadata": {},
   "outputs": [
    {
     "name": "stdout",
     "output_type": "stream",
     "text": [
      "\n",
      "--- Hourly Ridership Counts ---\n",
      "transit_timestamp\n",
      "0     9528\n",
      "1     9528\n",
      "2     9528\n",
      "3     9528\n",
      "4     9528\n",
      "5     9528\n",
      "6     9528\n",
      "7     9528\n",
      "8     9528\n",
      "9     9528\n",
      "10    9528\n",
      "11    9528\n",
      "12    9528\n",
      "13    9528\n",
      "14    9528\n",
      "15    9528\n",
      "16    9528\n",
      "17    9528\n",
      "18    9528\n",
      "19    9528\n",
      "20    9528\n",
      "21    9528\n",
      "22    9528\n",
      "23    9528\n",
      "Name: count, dtype: int64\n",
      "\n",
      "Generating plot...\n",
      "Plot saved as 'hourly_ridership_pattern.png'\n"
     ]
    },
    {
     "data": {
      "image/png": "[encoded data removed]",
      "text/plain": [
       "<Figure size 1500x700 with 1 Axes>"
      ]
     },
     "metadata": {},
     "output_type": "display_data"
    }
   ],
   "source": [
    "TARGET_DATE = '2024-08-21'\n",
    "\n",
    "if ridership is not None:\n",
    "    ridership['transit_timestamp'] = dd.to_datetime(ridership['transit_timestamp'])\n",
    "    day_filter = (ridership['transit_timestamp'].dt.date == pd.to_datetime(TARGET_DATE).date())\n",
    "    single_day_ddf = ridership[day_filter]\n",
    "    hourly_counts = single_day_ddf['transit_timestamp'].dt.hour.value_counts().compute()\n",
    "\n",
    "    # 4. Sort the results by hour for plotting\n",
    "    hourly_counts = hourly_counts.sort_index()\n",
    "    \n",
    "    print(\"\\n--- Hourly Ridership Counts ---\")\n",
    "    print(hourly_counts)\n",
    "\n",
    "    # --- Plotting ---\n",
    "    print(\"\\nGenerating plot...\")\n",
    "    plt.style.use('seaborn-v0_8-whitegrid')\n",
    "    plt.figure(figsize=(15, 7))\n",
    "    \n",
    "    hourly_counts.plot(kind='bar', color='#0039A6', width=0.8)\n",
    "    \n",
    "    plt.title(f'MTA Bus Ridership by Hour on {TARGET_DATE}', fontsize=16)\n",
    "    plt.xlabel('Hour of the Day', fontsize=12)\n",
    "    plt.ylabel('Number of Ridership Records', fontsize=12)\n",
    "    plt.xticks(rotation=0)\n",
    "    plt.grid(axis='y', linestyle='--', alpha=0.7)\n",
    "    \n",
    "    # Save the plot to a file\n",
    "    plt.savefig('hourly_ridership_pattern.png', bbox_inches='tight')\n",
    "    print(\"Plot saved as 'hourly_ridership_pattern.png'\")\n"
   ]
  },
  {
   "cell_type": "markdown",
   "id": "e21bb194-ccff-4d59-a00f-93756cc3dc25",
   "metadata": {},
   "source": [
    "synthetic or placeholder data possibly. This dataset is flawed??? Not live/real dataset?"
   ]
  },
  {
   "cell_type": "markdown",
   "id": "c11d84da-d919-4144-9071-a8a949817083",
   "metadata": {},
   "source": [
    "(1) Which MTA bus routes are highly utilized by CUNY students? For routes that are automated camera-enforced, how have bus speeds changed over time?\n",
    "\n",
    "Using MTA Bus Hourly Ridership: 2020-2024 and MTA General Transit Feed Specification (GTFS) Static Data for the first initial question on CUNY Students. (But might not be able to filter correctly since student metrocards are more for students)\n",
    "\n",
    "MTA Bus Route Segment Speeds: 2023 - 2024 and MTA Bus Automated Camera Enforced Routes to answer change over time.\n",
    "https://data.ny.gov/resource/58t6-89vi.json  (Bus Route Segment Speeds)\n",
    "https://data.ny.gov/resource/ki2b-sg5y.json  (Camera Enforced Routes)\n"
   ]
  },
  {
   "cell_type": "markdown",
   "id": "abec94e5-b65c-44ce-907c-ebb82996151a",
   "metadata": {},
   "source": [
    "Uh their website not working and there isn't a single zip file for all so manually combining them"
   ]
  },
  {
   "cell_type": "code",
   "execution_count": 26,
   "id": "0fc11239-de60-47bf-952a-d44474d62c99",
   "metadata": {},
   "outputs": [
    {
     "name": "stdout",
     "output_type": "stream",
     "text": [
      "Downloading and unzipping all GTFS files...\n",
      " - Successfully downloaded and unzipped data for bronx.\n",
      " - Successfully downloaded and unzipped data for brooklyn.\n",
      " - Successfully downloaded and unzipped data for manhattan.\n",
      " - Successfully downloaded and unzipped data for queens.\n",
      " - Successfully downloaded and unzipped data for staten_island.\n",
      " - Failed to download or unzip for bus_company. Error: File is not a zip file\n",
      "\n",
      "All GTFS data has been downloaded.\n"
     ]
    }
   ],
   "source": [
    "# A dictionary of the direct URLs for each GTFS file\n",
    "GTFS_URLS = {\n",
    "    \"bronx\": \"http://web.mta.info/developers/data/nyct/bus/google_transit_bronx.zip\",\n",
    "    \"brooklyn\": \"http://web.mta.info/developers/data/nyct/bus/google_transit_brooklyn.zip\",\n",
    "    \"manhattan\": \"http://web.mta.info/developers/data/nyct/bus/google_transit_manhattan.zip\",\n",
    "    \"queens\": \"http://web.mta.info/developers/data/nyct/bus/google_transit_queens.zip\",\n",
    "    \"staten_island\": \"http://web.mta.info/developers/data/nyct/bus/google_transit_staten_island.zip\",\n",
    "    \"bus_company\": \"http://web.mta.info/developers/data/nyct/bus/google_transit_bus_company.zip\"\n",
    "}\n",
    "\n",
    "# Create a main directory to hold all our GTFS data\n",
    "output_dir = \"gtfs_all\"\n",
    "os.makedirs(output_dir, exist_ok=True)\n",
    "\n",
    "print(\"Downloading and unzipping all GTFS files...\")\n",
    "for name, url in GTFS_URLS.items():\n",
    "    try:\n",
    "        response = requests.get(url)\n",
    "        with zipfile.ZipFile(io.BytesIO(response.content)) as z:\n",
    "            borough_dir = os.path.join(output_dir, name)\n",
    "            z.extractall(borough_dir)\n",
    "            print(f\" - Successfully downloaded and unzipped data for {name}.\")\n",
    "    except Exception as e:\n",
    "        print(f\" - Failed to download or unzip for {name}. Error: {e}\")\n",
    "\n",
    "print(\"\\nAll GTFS data has been downloaded.\")"
   ]
  },
  {
   "cell_type": "code",
   "execution_count": 28,
   "id": "c6c868ca-38aa-46fa-9fbb-dfa91ea37c0e",
   "metadata": {},
   "outputs": [
    {
     "name": "stdout",
     "output_type": "stream",
     "text": [
      "\n",
      "Combining GTFS files into master DataFrames...\n",
      "Master DataFrames created successfully.\n",
      "Total unique stops found across all boroughs: 11523\n"
     ]
    }
   ],
   "source": [
    "def combine_gtfs_files(filename):\n",
    "    all_files = glob.glob(f'{output_dir}/*/{filename}')\n",
    "    df_list = []\n",
    "    for f in all_files:\n",
    "        try:\n",
    "            df = pd.read_csv(f)\n",
    "            df_list.append(df)\n",
    "        except FileNotFoundError:\n",
    "            # This handles cases where a file might be missing from one of the zips\n",
    "            print(f\"Warning: {filename} not found in {os.path.dirname(f)}\")\n",
    "    \n",
    "    # Concatenate all the dataframes into one\n",
    "    return pd.concat(df_list, ignore_index=True)\n",
    "\n",
    "# Create the master DataFrames for the files we need\n",
    "print(\"\\nCombining GTFS files into master DataFrames...\")\n",
    "stops_df = combine_gtfs_files('stops.txt')\n",
    "stop_times_df = combine_gtfs_files('stop_times.txt')\n",
    "trips_df = combine_gtfs_files('trips.txt')\n",
    "routes_df = combine_gtfs_files('routes.txt')\n",
    "\n",
    "print(\"Master DataFrames created successfully.\")\n",
    "print(f\"Total unique stops found across all boroughs: {stops_df['stop_id'].nunique()}\")"
   ]
  },
  {
   "cell_type": "code",
   "execution_count": 29,
   "id": "ec582920-80a5-47d0-90ef-465126eec035",
   "metadata": {},
   "outputs": [
    {
     "name": "stdout",
     "output_type": "stream",
     "text": [
      "All combined GTFS DataFrames have been saved.\n"
     ]
    }
   ],
   "source": [
    "processed_gtfs_dir = \"gtfs_processed\"\n",
    "os.makedirs(processed_gtfs_dir, exist_ok=True)\n",
    "\n",
    "# Save each DataFrame to its own Parquet file\n",
    "stops_df.to_parquet(f'{processed_gtfs_dir}/stops.parquet')\n",
    "stop_times_df.to_parquet(f'{processed_gtfs_dir}/stop_times.parquet')\n",
    "trips_df.to_parquet(f'{processed_gtfs_dir}/trips.parquet')\n",
    "routes_df.to_parquet(f'{processed_gtfs_dir}/routes.parquet')\n",
    "\n",
    "print(\"All combined GTFS DataFrames have been saved.\")"
   ]
  },
  {
   "cell_type": "code",
   "execution_count": null,
   "id": "bcf36ea2-0b0b-43c7-bd4b-a03a29fcefb0",
   "metadata": {},
   "outputs": [],
   "source": [
    "processed_gtfs_dir = \"gtfs_processed\"\n",
    "\n",
    "# Load the DataFrames directly from your saved files\n",
    "stops_df = pd.read_parquet(f'{processed_gtfs_dir}/stops.parquet')\n",
    "stop_times_df = pd.read_parquet(f'{processed_gtfs_dir}/stop_times.parquet')\n",
    "trips_df = pd.read_parquet(f'{processed_gtfs_dir}/trips.parquet')\n",
    "routes_df = pd.read_parquet(f'{processed_gtfs_dir}/routes.parquet')\n",
    "\n",
    "print(\"Successfully loaded all processed GTFS DataFrames from local files.\")\n",
    "print(f\"Loaded {len(stops_df)} total stops.\")"
   ]
  },
  {
   "cell_type": "code",
   "execution_count": 30,
   "id": "984d8847-df3e-4feb-84f6-14af4d400366",
   "metadata": {},
   "outputs": [
    {
     "name": "stdout",
     "output_type": "stream",
     "text": [
      "Found 38 stops near Baruch College.\n",
      "Found 30 stops near Hunter College.\n",
      "Found 24 stops near City College.\n",
      "Found 2 stops near Queens College.\n",
      "Found 13 stops near Brooklyn College.\n",
      "\n",
      "Total unique bus stops found near CUNY campuses: 92\n"
     ]
    }
   ],
   "source": [
    "CUNY_LOCATIONS = {\n",
    "    'Baruch College': {'lat': 40.7404, 'lon': -73.9835},\n",
    "    'Hunter College': {'lat': 40.7685, 'lon': -73.9657},\n",
    "    'City College': {'lat': 40.8200, 'lon': -73.9493},\n",
    "    'Queens College': {'lat': 40.7369, 'lon': -73.8188},\n",
    "    'Brooklyn College': {'lat': 40.6309, 'lon': -73.9546}\n",
    "}\n",
    "\n",
    "# Helper function to calculate distance between two lat/lon points\n",
    "def haversine_distance(lat1, lon1, lat2, lon2):\n",
    "    R = 6371  # Radius of Earth in kilometers\n",
    "    lat1_rad, lon1_rad = np.radians(lat1), np.radians(lon1)\n",
    "    lat2_rad, lon2_rad = np.radians(lat2), np.radians(lon2)\n",
    "    \n",
    "    dlon = lon2_rad - lon1_rad\n",
    "    dlat = lat2_rad - lat1_rad\n",
    "    \n",
    "    a = np.sin(dlat / 2)**2 + np.cos(lat1_rad) * np.cos(lat2_rad) * np.sin(dlon / 2)**2\n",
    "    c = 2 * np.arctan2(np.sqrt(a), np.sqrt(1 - a))\n",
    "    \n",
    "    return R * c\n",
    "\n",
    "# Find all stops within a 0.4 km radius of any CUNY campus\n",
    "nearby_stop_ids = set()\n",
    "WALKING_DISTANCE_KM = 0.4\n",
    "\n",
    "for campus, coords in CUNY_LOCATIONS.items():\n",
    "    distances = haversine_distance(coords['lat'], coords['lon'], stops_df['stop_lat'], stops_df['stop_lon'])\n",
    "    nearby_stops = stops_df[distances <= WALKING_DISTANCE_KM]\n",
    "    nearby_stop_ids.update(nearby_stops['stop_id'])\n",
    "    print(f\"Found {len(nearby_stops)} stops near {campus}.\")\n",
    "\n",
    "print(f\"\\nTotal unique bus stops found near CUNY campuses: {len(nearby_stop_ids)}\")"
   ]
  },
  {
   "cell_type": "code",
   "execution_count": 32,
   "id": "d92ab0f9-d9bb-46fc-b4c5-f269f9c90c0e",
   "metadata": {},
   "outputs": [
    {
     "name": "stdout",
     "output_type": "stream",
     "text": [
      "\n",
      "Found 40 unique bus routes that serve CUNY campuses.\n"
     ]
    }
   ],
   "source": [
    "# Filter stop_times for our nearby stops to get the relevant trips\n",
    "cuny_stop_times = stop_times_df[stop_times_df['stop_id'].isin(nearby_stop_ids)]\n",
    "\n",
    "#Use those trip_ids to get the relevant routes\n",
    "cuny_trips = trips_df[trips_df['trip_id'].isin(cuny_stop_times['trip_id'])]\n",
    "\n",
    "# Use those route_ids to get the final route names\n",
    "cuny_routes_info = routes_df[routes_df['route_id'].isin(cuny_trips['route_id'])]\n",
    "\n",
    "# Create our final, unique list of CUNY-serving bus route names\n",
    "cuny_route_names = cuny_routes_info['route_short_name'].unique().tolist()\n",
    "\n",
    "print(f\"\\nFound {len(cuny_route_names)} unique bus routes that serve CUNY campuses.\")"
   ]
  },
  {
   "cell_type": "code",
   "execution_count": 35,
   "id": "a87b2b22-9181-418e-8488-ee8e7faec836",
   "metadata": {},
   "outputs": [
    {
     "data": {
      "text/plain": [
       "Index(['transit_timestamp', 'bus_route', 'payment_method',\n",
       "       'fare_class_category', 'ridership', 'transfers'],\n",
       "      dtype='object')"
      ]
     },
     "execution_count": 35,
     "metadata": {},
     "output_type": "execute_result"
    }
   ],
   "source": [
    "ridership.columns"
   ]
  },
  {
   "cell_type": "code",
   "execution_count": 44,
   "id": "74a82dfb-bc75-4573-91a9-48ed01ba8356",
   "metadata": {},
   "outputs": [
    {
     "name": "stdout",
     "output_type": "stream",
     "text": [
      "\n",
      "--- Top 15 Most Utilized Bus Routes Serving CUNY Campuses (2024 Ridership) ---\n",
      "bus_route\n",
      "B6      5312856.0\n",
      "M15     4241205.0\n",
      "M101    4189363.0\n",
      "M4      3517546.0\n",
      "M3      2835170.0\n",
      "M11     2683483.0\n",
      "M102    2620425.0\n",
      "M1      2550732.0\n",
      "Q88     2404215.0\n",
      "M103    2326089.0\n",
      "M2      2035420.0\n",
      "B49     2002936.0\n",
      "B11     1991865.0\n",
      "M66     1721046.0\n",
      "M100    1620507.0\n",
      "Name: ridership, dtype: float64\n"
     ]
    }
   ],
   "source": [
    "# Filter for rows where the bus route is in our list of CUNY-serving routes\n",
    "ridership['ridership'] = ridership['ridership'].astype(float)\n",
    "cuny_ridership_ddf = ridership[ridership['bus_route'].isin(cuny_route_names)]\n",
    "\n",
    "# Group by bus route and sum the ridership for the entire period\n",
    "# Use a specific, real year like 2023 to avoid synthetic data\n",
    "cuny_ridership_ddf_2024 = cuny_ridership_ddf[cuny_ridership_ddf['transit_timestamp'].dt.year == 2024]\n",
    "top_cuny_routes = cuny_ridership_ddf_2024.groupby('bus_route')['ridership'].sum().compute()\n",
    "\n",
    "# Sort the results to see the most utilized routes\n",
    "top_cuny_routes = top_cuny_routes.sort_values(ascending=False)\n",
    "\n",
    "print(\"\\n--- Top 15 Most Utilized Bus Routes Serving CUNY Campuses (2024 Ridership) ---\")\n",
    "print(top_cuny_routes.head(15))"
   ]
  },
  {
   "cell_type": "code",
   "execution_count": 43,
   "id": "1402801d-4b8e-4571-b7d0-7f601c0e322f",
   "metadata": {},
   "outputs": [
    {
     "name": "stdout",
     "output_type": "stream",
     "text": [
      "\n",
      "Chart saved as 'top_cuny_routes.png'\n"
     ]
    },
    {
     "data": {
      "image/png": "[encoded data removed]",
      "text/plain": [
       "<Figure size 1500x800 with 1 Axes>"
      ]
     },
     "metadata": {},
     "output_type": "display_data"
    }
   ],
   "source": [
    "plt.style.use('seaborn-v0_8-whitegrid')\n",
    "plt.figure(figsize=(15, 8))\n",
    "\n",
    "top_cuny_routes.head(15).sort_values().plot(kind='barh', color='#0039A6')\n",
    "\n",
    "plt.title('Top 15 Bus Routes by Total Ridership Serving Major CUNY Campuses (2024)', fontsize=16)\n",
    "plt.xlabel('Total Ridership in 2024', fontsize=12)\n",
    "plt.ylabel('Bus Route', fontsize=12)\n",
    "plt.grid(axis='x', linestyle='--', alpha=0.7)\n",
    "\n",
    "plt.savefig('top_cuny_routes.png', bbox_inches='tight')\n",
    "print(\"\\nChart saved as 'top_cuny_routes.png'\")"
   ]
  },
  {
   "cell_type": "code",
   "execution_count": 47,
   "id": "94590b15-e203-4a5f-b413-fb6306cc97d0",
   "metadata": {},
   "outputs": [
    {
     "data": {
      "text/html": [
       "<div>\n",
       "<style scoped>\n",
       "    .dataframe tbody tr th:only-of-type {\n",
       "        vertical-align: middle;\n",
       "    }\n",
       "\n",
       "    .dataframe tbody tr th {\n",
       "        vertical-align: top;\n",
       "    }\n",
       "\n",
       "    .dataframe thead th {\n",
       "        text-align: right;\n",
       "    }\n",
       "</style>\n",
       "<table border=\"1\" class=\"dataframe\">\n",
       "  <thead>\n",
       "    <tr style=\"text-align: right;\">\n",
       "      <th></th>\n",
       "      <th>Violation ID</th>\n",
       "      <th>Vehicle ID</th>\n",
       "      <th>First Occurrence</th>\n",
       "      <th>Last Occurrence</th>\n",
       "      <th>Violation Status</th>\n",
       "      <th>Violation Type</th>\n",
       "      <th>Bus Route ID</th>\n",
       "      <th>Violation Latitude</th>\n",
       "      <th>Violation Longitude</th>\n",
       "      <th>Stop ID</th>\n",
       "      <th>Stop Name</th>\n",
       "      <th>Bus Stop Latitude</th>\n",
       "      <th>Bus Stop Longitude</th>\n",
       "      <th>Violation Georeference</th>\n",
       "      <th>Bus Stop Georeference</th>\n",
       "      <th>borough</th>\n",
       "    </tr>\n",
       "  </thead>\n",
       "  <tbody>\n",
       "    <tr>\n",
       "      <th>1678307</th>\n",
       "      <td>452232689</td>\n",
       "      <td>8c8c3903e4ee259558cc9b5b3d1fe4b9070da4bc7027d2...</td>\n",
       "      <td>2024-12-30 23:54:08</td>\n",
       "      <td>12/30/2024 11:59:08 PM</td>\n",
       "      <td>VIOLATION ISSUED</td>\n",
       "      <td>MOBILE BUS STOP</td>\n",
       "      <td>Q54</td>\n",
       "      <td>40.703632</td>\n",
       "      <td>-73.799539</td>\n",
       "      <td>501422</td>\n",
       "      <td>170 ST/JAMAICA AV</td>\n",
       "      <td>40.707549</td>\n",
       "      <td>-73.789882</td>\n",
       "      <td>POINT (-73.799539 40.703632)</td>\n",
       "      <td>POINT (-73.789882 40.707549)</td>\n",
       "      <td>Q (Queens)</td>\n",
       "    </tr>\n",
       "    <tr>\n",
       "      <th>1682066</th>\n",
       "      <td>452138724</td>\n",
       "      <td>d30f3f77237b8b9f21e3891a085b0b6c86b567b1f88298...</td>\n",
       "      <td>2024-12-30 23:54:33</td>\n",
       "      <td>12/30/2024 11:57:56 PM</td>\n",
       "      <td>VIOLATION ISSUED</td>\n",
       "      <td>MOBILE BUS STOP</td>\n",
       "      <td>B35</td>\n",
       "      <td>40.651585</td>\n",
       "      <td>-74.004411</td>\n",
       "      <td>302783</td>\n",
       "      <td>39 ST/3 AV</td>\n",
       "      <td>40.653699</td>\n",
       "      <td>-74.007835</td>\n",
       "      <td>POINT (-74.004411 40.651585)</td>\n",
       "      <td>POINT (-74.007835 40.653699)</td>\n",
       "      <td>B (Brooklyn)</td>\n",
       "    </tr>\n",
       "    <tr>\n",
       "      <th>1682218</th>\n",
       "      <td>452138281</td>\n",
       "      <td>70a2a76a2aefca05055374daf60f348ad4df2d5ef963c8...</td>\n",
       "      <td>2024-12-30 23:55:38</td>\n",
       "      <td>12/30/2024 11:58:30 PM</td>\n",
       "      <td>VIOLATION ISSUED</td>\n",
       "      <td>MOBILE BUS STOP</td>\n",
       "      <td>B35</td>\n",
       "      <td>40.649806</td>\n",
       "      <td>-74.001468</td>\n",
       "      <td>302783</td>\n",
       "      <td>39 ST/3 AV</td>\n",
       "      <td>40.653699</td>\n",
       "      <td>-74.007835</td>\n",
       "      <td>POINT (-74.001468 40.649806)</td>\n",
       "      <td>POINT (-74.007835 40.653699)</td>\n",
       "      <td>B (Brooklyn)</td>\n",
       "    </tr>\n",
       "    <tr>\n",
       "      <th>1682231</th>\n",
       "      <td>452138182</td>\n",
       "      <td>9cfed6ec5ddbc3516b5d404fff8bcc369ccbf86d887e14...</td>\n",
       "      <td>2024-12-30 23:56:10</td>\n",
       "      <td>12/30/2024 11:59:11 PM</td>\n",
       "      <td>VIOLATION ISSUED</td>\n",
       "      <td>MOBILE BUS STOP</td>\n",
       "      <td>B35</td>\n",
       "      <td>40.648517</td>\n",
       "      <td>-73.999335</td>\n",
       "      <td>302783</td>\n",
       "      <td>39 ST/3 AV</td>\n",
       "      <td>40.653699</td>\n",
       "      <td>-74.007835</td>\n",
       "      <td>POINT (-73.999335 40.648517)</td>\n",
       "      <td>POINT (-74.007835 40.653699)</td>\n",
       "      <td>B (Brooklyn)</td>\n",
       "    </tr>\n",
       "    <tr>\n",
       "      <th>1677837</th>\n",
       "      <td>452235576</td>\n",
       "      <td>7f30cea65da8a1540bcf0640699b2cbc0ff2be727e3592...</td>\n",
       "      <td>2024-12-30 23:56:17</td>\n",
       "      <td>12/31/2024 10:25:16 PM</td>\n",
       "      <td>VIOLATION ISSUED</td>\n",
       "      <td>MOBILE BUS STOP</td>\n",
       "      <td>Q53+</td>\n",
       "      <td>40.745826</td>\n",
       "      <td>-73.900883</td>\n",
       "      <td>553332</td>\n",
       "      <td>ROOSEVELT AV/61 ST</td>\n",
       "      <td>40.745673</td>\n",
       "      <td>-73.902110</td>\n",
       "      <td>POINT (-73.900883 40.745826)</td>\n",
       "      <td>POINT (-73.90211 40.745673)</td>\n",
       "      <td>Q (Queens)</td>\n",
       "    </tr>\n",
       "  </tbody>\n",
       "</table>\n",
       "</div>"
      ],
      "text/plain": [
       "         Violation ID                                         Vehicle ID  \\\n",
       "1678307     452232689  8c8c3903e4ee259558cc9b5b3d1fe4b9070da4bc7027d2...   \n",
       "1682066     452138724  d30f3f77237b8b9f21e3891a085b0b6c86b567b1f88298...   \n",
       "1682218     452138281  70a2a76a2aefca05055374daf60f348ad4df2d5ef963c8...   \n",
       "1682231     452138182  9cfed6ec5ddbc3516b5d404fff8bcc369ccbf86d887e14...   \n",
       "1677837     452235576  7f30cea65da8a1540bcf0640699b2cbc0ff2be727e3592...   \n",
       "\n",
       "           First Occurrence         Last Occurrence  Violation Status  \\\n",
       "1678307 2024-12-30 23:54:08  12/30/2024 11:59:08 PM  VIOLATION ISSUED   \n",
       "1682066 2024-12-30 23:54:33  12/30/2024 11:57:56 PM  VIOLATION ISSUED   \n",
       "1682218 2024-12-30 23:55:38  12/30/2024 11:58:30 PM  VIOLATION ISSUED   \n",
       "1682231 2024-12-30 23:56:10  12/30/2024 11:59:11 PM  VIOLATION ISSUED   \n",
       "1677837 2024-12-30 23:56:17  12/31/2024 10:25:16 PM  VIOLATION ISSUED   \n",
       "\n",
       "          Violation Type Bus Route ID  Violation Latitude  \\\n",
       "1678307  MOBILE BUS STOP          Q54           40.703632   \n",
       "1682066  MOBILE BUS STOP          B35           40.651585   \n",
       "1682218  MOBILE BUS STOP          B35           40.649806   \n",
       "1682231  MOBILE BUS STOP          B35           40.648517   \n",
       "1677837  MOBILE BUS STOP         Q53+           40.745826   \n",
       "\n",
       "         Violation Longitude  Stop ID           Stop Name  Bus Stop Latitude  \\\n",
       "1678307           -73.799539   501422   170 ST/JAMAICA AV          40.707549   \n",
       "1682066           -74.004411   302783          39 ST/3 AV          40.653699   \n",
       "1682218           -74.001468   302783          39 ST/3 AV          40.653699   \n",
       "1682231           -73.999335   302783          39 ST/3 AV          40.653699   \n",
       "1677837           -73.900883   553332  ROOSEVELT AV/61 ST          40.745673   \n",
       "\n",
       "         Bus Stop Longitude        Violation Georeference  \\\n",
       "1678307          -73.789882  POINT (-73.799539 40.703632)   \n",
       "1682066          -74.007835  POINT (-74.004411 40.651585)   \n",
       "1682218          -74.007835  POINT (-74.001468 40.649806)   \n",
       "1682231          -74.007835  POINT (-73.999335 40.648517)   \n",
       "1677837          -73.902110  POINT (-73.900883 40.745826)   \n",
       "\n",
       "                Bus Stop Georeference       borough  \n",
       "1678307  POINT (-73.789882 40.707549)    Q (Queens)  \n",
       "1682066  POINT (-74.007835 40.653699)  B (Brooklyn)  \n",
       "1682218  POINT (-74.007835 40.653699)  B (Brooklyn)  \n",
       "1682231  POINT (-74.007835 40.653699)  B (Brooklyn)  \n",
       "1677837   POINT (-73.90211 40.745673)    Q (Queens)  "
      ]
     },
     "execution_count": 47,
     "metadata": {},
     "output_type": "execute_result"
    }
   ],
   "source": [
    "enforced_routes_df = sorted_df\n",
    "enforced_routes_df.tail()"
   ]
  },
  {
   "cell_type": "code",
   "execution_count": 51,
   "id": "a8ff19cc-1b39-4157-ad2a-333b568bdead",
   "metadata": {},
   "outputs": [],
   "source": [
    "enforced_routes_list = enforced_routes_df['Bus Route ID'].unique().tolist()"
   ]
  },
  {
   "cell_type": "code",
   "execution_count": 52,
   "id": "faf399b1-3626-4fe7-9bae-ae492fe5d1b6",
   "metadata": {},
   "outputs": [
    {
     "name": "stdout",
     "output_type": "stream",
     "text": [
      "Examples: ['M15+', 'M14+', 'B44+', 'B46+', 'M34+']\n"
     ]
    }
   ],
   "source": [
    "print(\"Examples:\", enforced_routes_list[:5])"
   ]
  },
  {
   "cell_type": "code",
   "execution_count": 54,
   "id": "3dc2c2ec-5c43-4bf5-a21e-4eec5854b30b",
   "metadata": {},
   "outputs": [
    {
     "name": "stdout",
     "output_type": "stream",
     "text": [
      "Asking API for total record count...\n",
      "Found 11,656,097 records in 234 pages. Chunks will be saved to 'speed_chunks/'\n"
     ]
    },
    {
     "name": "stderr",
     "output_type": "stream",
     "text": [
      "Downloading speed data: 100%|████████████████████████████████████████████████████████████████████████████████████████████████| 234/234 [10:05<00:00,  2.59s/it]"
     ]
    },
    {
     "name": "stdout",
     "output_type": "stream",
     "text": [
      "\n",
      "Finished downloading all speed data to the 'speed_chunks' directory.\n"
     ]
    },
    {
     "name": "stderr",
     "output_type": "stream",
     "text": [
      "\n"
     ]
    }
   ],
   "source": [
    "LIMIT = 50000\n",
    "MAX_WORKERS = 10\n",
    "# This is the unique ID for the Bus Speed dataset\n",
    "DATASET_ID = \"58t6-89vi\" \n",
    "BASE_URL = f\"https://data.ny.gov/resource/{DATASET_ID}.json\"\n",
    "OUTPUT_DIR = \"speed_chunks\" \n",
    "\n",
    "os.makedirs(OUTPUT_DIR, exist_ok=True)\n",
    "print(\"Asking API for total record count...\")\n",
    "count_params = {'$select': 'count(*)'}\n",
    "response = requests.get(BASE_URL, params=count_params)\n",
    "total_records = int(response.json()[0]['count'])\n",
    "total_pages = math.ceil(total_records / LIMIT)\n",
    "print(f\"Found {total_records:,} records in {total_pages} pages. Chunks will be saved to '{OUTPUT_DIR}/'\")\n",
    "\n",
    "def fetch_and_save_page(offset):\n",
    "    params = {'$limit': LIMIT, '$offset': offset}\n",
    "    for attempt in range(3):\n",
    "        try:\n",
    "            response = requests.get(BASE_URL, params=params, timeout=30)\n",
    "            response.raise_for_status()\n",
    "            data = response.json()\n",
    "            if data:\n",
    "                df_chunk = pd.DataFrame(data)\n",
    "                df_chunk.to_parquet(f'{OUTPUT_DIR}/chunk_{offset}.parquet')\n",
    "            return len(data)\n",
    "        except requests.exceptions.RequestException as e:\n",
    "            time.sleep(5)\n",
    "    return 0\n",
    "\n",
    "offsets = [i * LIMIT for i in range(total_pages)]\n",
    "with concurrent.futures.ThreadPoolExecutor(max_workers=MAX_WORKERS) as executor:\n",
    "    list(tqdm(executor.map(fetch_and_save_page, offsets), total=total_pages, desc=\"Downloading speed data\"))\n",
    "\n",
    "print(f\"\\nFinished downloading all speed data to the '{OUTPUT_DIR}' directory.\")"
   ]
  },
  {
   "cell_type": "code",
   "execution_count": 59,
   "id": "f4844f7f-49ed-4ac9-9439-bf3e6c757f07",
   "metadata": {},
   "outputs": [
    {
     "data": {
      "text/plain": [
       "Index(['year', 'month', 'timestamp', 'day_of_week', 'hour_of_day', 'route_id',\n",
       "       'direction', 'borough', 'route_type', 'stop_order', 'timepoint_stop_id',\n",
       "       'timepoint_stop_name', 'timepoint_stop_latitude',\n",
       "       'timepoint_stop_longitude', 'next_timepoint_stop_id',\n",
       "       'next_timepoint_stop_name', 'next_timepoint_stop_latitude',\n",
       "       'next_timepoint_stop_longitude', 'road_distance', 'average_travel_time',\n",
       "       'average_road_speed', 'bus_trip_count', 'timepoint_stop_georeference',\n",
       "       'next_timepoint_stop_georeference'],\n",
       "      dtype='object')"
      ]
     },
     "execution_count": 59,
     "metadata": {},
     "output_type": "execute_result"
    }
   ],
   "source": [
    "ddf_speed.columns"
   ]
  },
  {
   "cell_type": "code",
   "execution_count": 61,
   "id": "1e659a1c-e40d-4818-8c52-019a5d529c12",
   "metadata": {},
   "outputs": [
    {
     "name": "stdout",
     "output_type": "stream",
     "text": [
      "timestamp\n",
      "2023-01-31    8.616337\n",
      "2023-02-28    8.535201\n",
      "2023-03-31    8.457225\n",
      "2023-04-30    8.440157\n",
      "2023-05-31    8.308536\n",
      "2023-06-30    8.313512\n",
      "2023-07-31    8.367023\n",
      "2023-08-31    8.467047\n",
      "2023-09-30    8.236159\n",
      "2023-10-31    8.263159\n",
      "2023-11-30    8.382977\n",
      "2023-12-31    8.405940\n",
      "2024-01-31    8.517840\n",
      "2024-02-29    8.314073\n",
      "2024-03-31    8.285223\n",
      "2024-04-30    8.250772\n",
      "2024-05-31    8.116013\n",
      "2024-06-30    8.116210\n",
      "2024-07-31    8.220338\n",
      "2024-08-31    8.228294\n",
      "2024-09-30    8.075827\n",
      "2024-10-31    8.182909\n",
      "2024-11-30    8.249447\n",
      "2024-12-31    8.284007\n",
      "Freq: ME, Name: average_road_speed, dtype: float64\n"
     ]
    }
   ],
   "source": [
    "ddf_speed = dd.read_parquet('speed_chunks/')\n",
    "# Filter for only the camera-enforced routes\n",
    "ddf_speed['average_road_speed'] = ddf_speed['average_road_speed'].astype(float)\n",
    "enforced_routes_speeds = ddf_speed[ddf_speed['route_id'].isin(enforced_routes_list)]\n",
    "enforced_routes_speeds['timestamp'] = dd.to_datetime(enforced_routes_speeds['timestamp'])\n",
    "enforced_routes_speeds = enforced_routes_speeds.set_index('timestamp')\n",
    "monthly_avg_speed = enforced_routes_speeds['average_road_speed'].resample('M').mean().compute()\n",
    "print(monthly_avg_speed)"
   ]
  },
  {
   "cell_type": "code",
   "execution_count": 62,
   "id": "f46baaee-d91d-4fab-a4e8-df45b8f618da",
   "metadata": {},
   "outputs": [
    {
     "name": "stdout",
     "output_type": "stream",
     "text": [
      "\n",
      "Speed trend chart saved as 'bus_speed_trends.png'\n"
     ]
    },
    {
     "data": {
      "image/png": "[encoded data removed]",
      "text/plain": [
       "<Figure size 1500x700 with 1 Axes>"
      ]
     },
     "metadata": {},
     "output_type": "display_data"
    }
   ],
   "source": [
    "plt.style.use('seaborn-v0_8-whitegrid')\n",
    "plt.figure(figsize=(15, 7))\n",
    "\n",
    "monthly_avg_speed.plot(kind='line', marker='o', linestyle='-', color='navy')\n",
    "\n",
    "plt.title('Average Monthly Bus Speed on Camera-Enforced Routes (2023-2024)', fontsize=16)\n",
    "plt.xlabel('Month', fontsize=12)\n",
    "plt.ylabel('Average Speed (MPH)', fontsize=12)\n",
    "plt.ylim(bottom=0) # Ensure y-axis starts at 0\n",
    "plt.grid(True, which='both', linestyle='--', linewidth=0.5)\n",
    "\n",
    "plt.savefig('bus_speed_trends.png', bbox_inches='tight')\n",
    "print(\"\\nSpeed trend chart saved as 'bus_speed_trends.png'\")"
   ]
  },
  {
   "cell_type": "markdown",
   "id": "6b0ea234-2cb6-4a36-b5fb-f23ef8cd2388",
   "metadata": {},
   "source": [
    "A Slight Downward Trend: The most significant finding is that despite these routes being camera-enforced, the average speed has not improved. In fact, it has slightly decreased from a peak of ~8.6 MPH in early 2023 to ~8.1-8.3 MPH by the end of 2024.\n",
    "The slight decline suggests that any benefits from clearer bus lanes might have been negated by other factors, such as a general increase in city-wide traffic congestion.\n",
    "\n",
    "\n",
    "Discovery of significant data quality issues in the MTA's ridership data. The investigation revealed that the dataset for 2024, despite containing 84 million records, was synthetically generated. Evidence for this included:\n",
    "\n",
    "Perfectly uniform total counts across all 12 fare categories.\n",
    "\n",
    "A perfectly flat hourly distribution, with the exact same number of records for each of the 24 hours in a day.\n",
    "\n",
    "This discovery was crucial, as it prevented drawing incorrect conclusions from artificial data and highlighted the necessity of validating data integrity, even from official sources."
   ]
  },
  {
   "cell_type": "markdown",
   "id": "0520f091-f691-4c46-817f-c8d72fc86f90",
   "metadata": {},
   "source": [
    "1: Identify the repeat offenders among exempt vehicles. \n",
    "2: create an interactive map showing where these violations occur along a major CUNY-serving route like the M15."
   ]
  },
  {
   "cell_type": "code",
   "execution_count": 63,
   "id": "e3b74c68-b390-4b8f-a16d-8950a5431cdd",
   "metadata": {},
   "outputs": [
    {
     "name": "stdout",
     "output_type": "stream",
     "text": [
      "Collecting folium\n",
      "  Downloading folium-0.20.0-py2.py3-none-any.whl.metadata (4.2 kB)\n",
      "Collecting branca>=0.6.0 (from folium)\n",
      "  Downloading branca-0.8.1-py3-none-any.whl.metadata (1.5 kB)\n",
      "Requirement already satisfied: jinja2>=2.9 in /Library/Frameworks/Python.framework/Versions/3.12/lib/python3.12/site-packages (from folium) (3.1.4)\n",
      "Requirement already satisfied: numpy in /Library/Frameworks/Python.framework/Versions/3.12/lib/python3.12/site-packages (from folium) (2.1.3)\n",
      "Requirement already satisfied: requests in /Library/Frameworks/Python.framework/Versions/3.12/lib/python3.12/site-packages (from folium) (2.32.3)\n",
      "Collecting xyzservices (from folium)\n",
      "  Downloading xyzservices-2025.4.0-py3-none-any.whl.metadata (4.3 kB)\n",
      "Requirement already satisfied: MarkupSafe>=2.0 in /Library/Frameworks/Python.framework/Versions/3.12/lib/python3.12/site-packages (from jinja2>=2.9->folium) (2.1.5)\n",
      "Requirement already satisfied: charset-normalizer<4,>=2 in /Library/Frameworks/Python.framework/Versions/3.12/lib/python3.12/site-packages (from requests->folium) (3.4.1)\n",
      "Requirement already satisfied: idna<4,>=2.5 in /Library/Frameworks/Python.framework/Versions/3.12/lib/python3.12/site-packages (from requests->folium) (3.10)\n",
      "Requirement already satisfied: urllib3<3,>=1.21.1 in /Library/Frameworks/Python.framework/Versions/3.12/lib/python3.12/site-packages (from requests->folium) (2.2.3)\n",
      "Requirement already satisfied: certifi>=2017.4.17 in /Library/Frameworks/Python.framework/Versions/3.12/lib/python3.12/site-packages (from requests->folium) (2024.8.30)\n",
      "Downloading folium-0.20.0-py2.py3-none-any.whl (113 kB)\n",
      "Downloading branca-0.8.1-py3-none-any.whl (26 kB)\n",
      "Downloading xyzservices-2025.4.0-py3-none-any.whl (90 kB)\n",
      "Installing collected packages: xyzservices, branca, folium\n",
      "\u001b[2K   \u001b[38;2;114;156;31m━━━━━━━━━━━━━━━━━━━━━━━━━━━━━━━━━━━━━━━━\u001b[0m \u001b[32m3/3\u001b[0m [folium]\n",
      "\u001b[1A\u001b[2KSuccessfully installed branca-0.8.1 folium-0.20.0 xyzservices-2025.4.0\n",
      "Note: you may need to restart the kernel to use updated packages.\n"
     ]
    }
   ],
   "source": [
    "pip install folium"
   ]
  },
  {
   "cell_type": "code",
   "execution_count": 69,
   "id": "5500b313-0b2f-4e26-a0b0-0cb92ee42d13",
   "metadata": {},
   "outputs": [
    {
     "data": {
      "text/plain": [
       "Index(['Violation ID', 'Vehicle ID', 'First Occurrence', 'Last Occurrence',\n",
       "       'Violation Status', 'Violation Type', 'Bus Route ID',\n",
       "       'Violation Latitude', 'Violation Longitude', 'Stop ID', 'Stop Name',\n",
       "       'Bus Stop Latitude', 'Bus Stop Longitude', 'Violation Georeference',\n",
       "       'Bus Stop Georeference', 'borough'],\n",
       "      dtype='object')"
      ]
     },
     "execution_count": 69,
     "metadata": {},
     "output_type": "execute_result"
    }
   ],
   "source": [
    "violation_df = sorted_df\n",
    "violation_df.columns"
   ]
  },
  {
   "cell_type": "code",
   "execution_count": 77,
   "id": "665eecd5-4680-4c19-8257-420dda5a934c",
   "metadata": {},
   "outputs": [],
   "source": [
    "ddf_violations = dd.read_csv(\n",
    "    'MTA_Bus_Automated_Camera_Enforcement_Violations__Beginning_October_2019_20250917.csv',\n",
    "    dtype={'license_plate_state': 'object', 'summons_image': 'object'}\n",
    ")\n"
   ]
  },
  {
   "cell_type": "code",
   "execution_count": 74,
   "id": "9ff88f0b-9b1b-437d-9ad5-b897f4367ad5",
   "metadata": {},
   "outputs": [
    {
     "name": "stdout",
     "output_type": "stream",
     "text": [
      "0     DRIVER/VEHICLE INFO MISSING\n",
      "0        EXEMPT - BUS/PARATRANSIT\n",
      "0      EXEMPT - EMERGENCY VEHICLE\n",
      "0                  EXEMPT - OTHER\n",
      "0    EXEMPT - COMMERCIAL UNDER 20\n",
      "1                VIOLATION ISSUED\n",
      "0           TECHNICAL ISSUE/OTHER\n",
      "Name: Violation Status, dtype: string\n"
     ]
    }
   ],
   "source": [
    "statuses = ddf_violations['Violation Status'].unique().compute()\n",
    "print(statuses)"
   ]
  },
  {
   "cell_type": "code",
   "execution_count": 79,
   "id": "1a9ac73d-1d2e-4cc9-9c02-89ea215141df",
   "metadata": {},
   "outputs": [
    {
     "name": "stdout",
     "output_type": "stream",
     "text": [
      "\n",
      "Found 870,810 total exempt violations.\n"
     ]
    }
   ],
   "source": [
    "is_exempt = ddf_violations['Violation Status'].str.upper().str.startswith('EXEMPT')\n",
    "exempt_violations = ddf_violations[is_exempt].compute()\n",
    "\n",
    "print(f\"\\nFound {len(exempt_violations):,} total exempt violations.\")"
   ]
  },
  {
   "cell_type": "code",
   "execution_count": 83,
   "id": "c6066a79-273f-49b1-9c81-5a9dc1b54fda",
   "metadata": {},
   "outputs": [
    {
     "data": {
      "text/plain": [
       "Index(['Violation ID', 'Vehicle ID', 'First Occurrence', 'Last Occurrence',\n",
       "       'Violation Status', 'Violation Type', 'Bus Route ID',\n",
       "       'Violation Latitude', 'Violation Longitude', 'Stop ID', 'Stop Name',\n",
       "       'Bus Stop Latitude', 'Bus Stop Longitude', 'Violation Georeference',\n",
       "       'Bus Stop Georeference'],\n",
       "      dtype='object')"
      ]
     },
     "execution_count": 83,
     "metadata": {},
     "output_type": "execute_result"
    }
   ],
   "source": [
    "exempt_violations.columns"
   ]
  },
  {
   "cell_type": "code",
   "execution_count": 84,
   "id": "0bf26802-c992-4719-9c60-b9b335607b8a",
   "metadata": {},
   "outputs": [
    {
     "name": "stdout",
     "output_type": "stream",
     "text": [
      "\n",
      "--- Top 15 Repeat Exempt Offenders ---\n",
      "Vehicle ID\n",
      "479d603cb0581d14fbaf8908f9f27ade6accce3a371895ba61be5cab8d23691b    1377\n",
      "1feaad876c46cfe1cc4ee357e410ec2054c5c231d268169dfdd9527c1c084a80    1346\n",
      "6d7caef8bf15e2bf8d46aa1e6dd8c0da1ae2fbc5b31acec87ab5642558d4360b     949\n",
      "6979a2434b4611cf1ebf80624eaeb29622929b061958b956f0d93024261a4a3c     924\n",
      "2a8ac01b157a97b3c124cf33322e71c31062b815dd3b0a9c121ee3a6c22ff64a     915\n",
      "e020820037319aaca4e4ed8d3c29e907f203d722ea46293949ae6e1c9b3ca446     894\n",
      "ebabc585284d95a10b6b45730c38fa55dfd57bcc5aea304b67693b84fb4d0eb0     842\n",
      "cbebd9b5a63416b9c246a35d3b5fc36214871dab0e5ccf88d54a4bf8a6a0f046     782\n",
      "550bbcf6f5cf18ffe4ff0a02863a488dacf944ef726cf5c8073617b804a47b09     725\n",
      "80e7bae594e62aaaf4ed702b8230dfd12559743828922bcb043940ad4a087b75     691\n",
      "b97dd1d54d4c1082f10c8186052403faffea893f8bf90374314072c22bd8706a     688\n",
      "24908a1da372fdb0f5f03bcf7001ee589cf492894d57922ce65681ba2d23e774     680\n",
      "19eaa1782ca3f0078369198494889cbc6c9eb3537ede8f7c6728a61742eab3ab     674\n",
      "d3394e8be16cf7189dccc9b3621153fcffb272574bc3079a8a3aa63839f249e0     661\n",
      "3e3e8a6a3ce6e635c9fb3d53b594777a1159e77bf186a3707faa44062991a55a     600\n",
      "Name: count, dtype: int64[pyarrow]\n"
     ]
    }
   ],
   "source": [
    "if not exempt_violations.empty:\n",
    "    repeat_offenders = exempt_violations['Vehicle ID'].value_counts()\n",
    "    print(\"\\n--- Top 15 Repeat Exempt Offenders ---\")\n",
    "    print(repeat_offenders.head(15))"
   ]
  },
  {
   "cell_type": "code",
   "execution_count": 85,
   "id": "829b3a3c-7053-4c2d-993e-342c5421185a",
   "metadata": {},
   "outputs": [
    {
     "name": "stdout",
     "output_type": "stream",
     "text": [
      "Combining all shapes.txt files...\n",
      "Found 371158 total shape points.\n",
      "\n",
      "Successfully created and saved 'gtfs_processed/shapes.parquet'.\n"
     ]
    }
   ],
   "source": [
    "unzipped_gtfs_dir = \"gtfs_all\"\n",
    "processed_gtfs_dir = \"gtfs_processed\"\n",
    "os.makedirs(processed_gtfs_dir, exist_ok=True)\n",
    "\n",
    "print(\"Combining all shapes.txt files...\")\n",
    "try:\n",
    "    shapes_df = combine_gtfs_files('shapes.txt')\n",
    "    \n",
    "    print(f\"Found {len(shapes_df)} total shape points.\")\n",
    "    \n",
    "    # Save the combined DataFrame to the processed folder\n",
    "    shapes_df.to_parquet(f'{processed_gtfs_dir}/shapes.parquet')\n",
    "\n",
    "    print(f\"\\nSuccessfully created and saved '{processed_gtfs_dir}/shapes.parquet'.\")\n",
    "\n",
    "except Exception as e:\n",
    "    print(f\"\\nAn error occurred: {e}\")\n",
    "    print(f\"Please make sure the '{unzipped_gtfs_dir}' directory exists and contains the unzipped GTFS data.\")"
   ]
  },
  {
   "cell_type": "code",
   "execution_count": 86,
   "id": "777dd2e3-124c-4e4f-97a8-7bdc8767f311",
   "metadata": {},
   "outputs": [],
   "source": [
    "shapes_df = pd.read_parquet('gtfs_processed/shapes.parquet') \n",
    "\n",
    "# Find the shape_id for the M15 route\n",
    "m15_route_id = routes_df[routes_df['route_short_name'] == 'M15']['route_id'].iloc[0]\n",
    "m15_trip_id = trips_df[trips_df['route_id'] == m15_route_id]['trip_id'].iloc[0]\n",
    "m15_shape_id = trips_df[trips_df['trip_id'] == m15_trip_id]['shape_id'].iloc[0]\n",
    "\n",
    "# Get the sequence of coordinates that form the route's path\n",
    "m15_shape = shapes_df[shapes_df['shape_id'] == m15_shape_id]\n",
    "route_coords = list(zip(m15_shape['shape_pt_lat'], m15_shape['shape_pt_lon']))"
   ]
  },
  {
   "cell_type": "code",
   "execution_count": 92,
   "id": "db6a3b75-fc24-43ae-8c19-231bea46ad8f",
   "metadata": {},
   "outputs": [
    {
     "data": {
      "text/plain": [
       "0"
      ]
     },
     "execution_count": 92,
     "metadata": {},
     "output_type": "execute_result"
    }
   ],
   "source": [
    "len(m15_exempt_violations)"
   ]
  },
  {
   "cell_type": "code",
   "execution_count": 89,
   "id": "0b3cb130-2b3e-47ea-aa9c-7458b9f6b429",
   "metadata": {},
   "outputs": [
    {
     "name": "stdout",
     "output_type": "stream",
     "text": [
      "\n",
      "Interactive map has been saved to 'm15_violation_hotspots.html'\n"
     ]
    }
   ],
   "source": [
    "# Filter our exempt violations for just the M15 route\n",
    "m15_exempt_violations = exempt_violations[exempt_violations['Bus Route ID'] == 'M15 SBS']\n",
    "\n",
    "# Create a map centered on Manhattan\n",
    "m = folium.Map(location=[40.75, -73.98], zoom_start=12)\n",
    "\n",
    "# Add the M15 bus route path to the map\n",
    "folium.PolyLine(\n",
    "    locations=route_coords,\n",
    "    color='blue',\n",
    "    weight=5,\n",
    "    opacity=0.8,\n",
    "    popup='M15 Bus Route'\n",
    ").add_to(m)\n",
    "\n",
    "# Add a circle marker for each exempt violation on the route\n",
    "for idx, violation in m15_exempt_violations.iterrows():\n",
    "    folium.CircleMarker(\n",
    "        location=[violation['latitude'], violation['longitude']],\n",
    "        radius=4,\n",
    "        color='red',\n",
    "        fill=True,\n",
    "        fill_color='red',\n",
    "        fill_opacity=0.6,\n",
    "        popup=f\"Violation on {violation['violation_date']}\"\n",
    "    ).add_to(m)\n",
    "\n",
    "# Save the map to an HTML file\n",
    "m.save(\"m15_violation_hotspots.html\")\n",
    "print(\"\\nInteractive map has been saved to 'm15_violation_hotspots.html'\")"
   ]
  },
  {
   "cell_type": "code",
   "execution_count": 91,
   "id": "8cd8b5a2-4314-432a-9839-d72fd6b0f897",
   "metadata": {},
   "outputs": [
    {
     "data": {
      "text/html": [
       "<div style=\"width:100%;\"><div style=\"position:relative;width:100%;height:0;padding-bottom:60%;\"><span style=\"color:#565656\">Make this Notebook Trusted to load map: File -> Trust Notebook</span><iframe srcdoc=\"&lt;!DOCTYPE html&gt;\n",
       "&lt;html&gt;\n",
       "&lt;head&gt;\n",
       "    \n",
       "    &lt;meta http-equiv=&quot;content-type&quot; content=&quot;text/html; charset=UTF-8&quot; /&gt;\n",
       "    &lt;script src=&quot;https://cdn.jsdelivr.net/npm/leaflet@1.9.3/dist/leaflet.js&quot;&gt;&lt;/script&gt;\n",
       "    &lt;script src=&quot;https://code.jquery.com/jquery-3.7.1.min.js&quot;&gt;&lt;/script&gt;\n",
       "    &lt;script src=&quot;https://cdn.jsdelivr.net/npm/bootstrap@5.2.2/dist/js/bootstrap.bundle.min.js&quot;&gt;&lt;/script&gt;\n",
       "    &lt;script src=&quot;https://cdnjs.cloudflare.com/ajax/libs/Leaflet.awesome-markers/2.0.2/leaflet.awesome-markers.js&quot;&gt;&lt;/script&gt;\n",
       "    &lt;link rel=&quot;stylesheet&quot; href=&quot;https://cdn.jsdelivr.net/npm/leaflet@1.9.3/dist/leaflet.css&quot;/&gt;\n",
       "    &lt;link rel=&quot;stylesheet&quot; href=&quot;https://cdn.jsdelivr.net/npm/bootstrap@5.2.2/dist/css/bootstrap.min.css&quot;/&gt;\n",
       "    &lt;link rel=&quot;stylesheet&quot; href=&quot;https://netdna.bootstrapcdn.com/bootstrap/3.0.0/css/bootstrap-glyphicons.css&quot;/&gt;\n",
       "    &lt;link rel=&quot;stylesheet&quot; href=&quot;https://cdn.jsdelivr.net/npm/@fortawesome/fontawesome-free@6.2.0/css/all.min.css&quot;/&gt;\n",
       "    &lt;link rel=&quot;stylesheet&quot; href=&quot;https://cdnjs.cloudflare.com/ajax/libs/Leaflet.awesome-markers/2.0.2/leaflet.awesome-markers.css&quot;/&gt;\n",
       "    &lt;link rel=&quot;stylesheet&quot; href=&quot;https://cdn.jsdelivr.net/gh/python-visualization/folium/folium/templates/leaflet.awesome.rotate.min.css&quot;/&gt;\n",
       "    \n",
       "            &lt;meta name=&quot;viewport&quot; content=&quot;width=device-width,\n",
       "                initial-scale=1.0, maximum-scale=1.0, user-scalable=no&quot; /&gt;\n",
       "            &lt;style&gt;\n",
       "                #map_06ca3044369ca7df786641f2333a5c4f {\n",
       "                    position: relative;\n",
       "                    width: 100.0%;\n",
       "                    height: 100.0%;\n",
       "                    left: 0.0%;\n",
       "                    top: 0.0%;\n",
       "                }\n",
       "                .leaflet-container { font-size: 1rem; }\n",
       "            &lt;/style&gt;\n",
       "\n",
       "            &lt;style&gt;html, body {\n",
       "                width: 100%;\n",
       "                height: 100%;\n",
       "                margin: 0;\n",
       "                padding: 0;\n",
       "            }\n",
       "            &lt;/style&gt;\n",
       "\n",
       "            &lt;style&gt;#map {\n",
       "                position:absolute;\n",
       "                top:0;\n",
       "                bottom:0;\n",
       "                right:0;\n",
       "                left:0;\n",
       "                }\n",
       "            &lt;/style&gt;\n",
       "\n",
       "            &lt;script&gt;\n",
       "                L_NO_TOUCH = false;\n",
       "                L_DISABLE_3D = false;\n",
       "            &lt;/script&gt;\n",
       "\n",
       "        \n",
       "&lt;/head&gt;\n",
       "&lt;body&gt;\n",
       "    \n",
       "    \n",
       "            &lt;div class=&quot;folium-map&quot; id=&quot;map_06ca3044369ca7df786641f2333a5c4f&quot; &gt;&lt;/div&gt;\n",
       "        \n",
       "&lt;/body&gt;\n",
       "&lt;script&gt;\n",
       "    \n",
       "    \n",
       "            var map_06ca3044369ca7df786641f2333a5c4f = L.map(\n",
       "                &quot;map_06ca3044369ca7df786641f2333a5c4f&quot;,\n",
       "                {\n",
       "                    center: [40.75, -73.98],\n",
       "                    crs: L.CRS.EPSG3857,\n",
       "                    ...{\n",
       "  &quot;zoom&quot;: 12,\n",
       "  &quot;zoomControl&quot;: true,\n",
       "  &quot;preferCanvas&quot;: false,\n",
       "}\n",
       "\n",
       "                }\n",
       "            );\n",
       "\n",
       "            \n",
       "\n",
       "        \n",
       "    \n",
       "            var tile_layer_14deeabd8bad64fe75f20927df98b90e = L.tileLayer(\n",
       "                &quot;https://tile.openstreetmap.org/{z}/{x}/{y}.png&quot;,\n",
       "                {\n",
       "  &quot;minZoom&quot;: 0,\n",
       "  &quot;maxZoom&quot;: 19,\n",
       "  &quot;maxNativeZoom&quot;: 19,\n",
       "  &quot;noWrap&quot;: false,\n",
       "  &quot;attribution&quot;: &quot;\\u0026copy; \\u003ca href=\\&quot;https://www.openstreetmap.org/copyright\\&quot;\\u003eOpenStreetMap\\u003c/a\\u003e contributors&quot;,\n",
       "  &quot;subdomains&quot;: &quot;abc&quot;,\n",
       "  &quot;detectRetina&quot;: false,\n",
       "  &quot;tms&quot;: false,\n",
       "  &quot;opacity&quot;: 1,\n",
       "}\n",
       "\n",
       "            );\n",
       "        \n",
       "    \n",
       "            tile_layer_14deeabd8bad64fe75f20927df98b90e.addTo(map_06ca3044369ca7df786641f2333a5c4f);\n",
       "        \n",
       "    \n",
       "            var poly_line_78aeb928091015c02a6d54a8e565d263 = L.polyline(\n",
       "                [[40.803199, -73.932526], [40.803242, -73.932629], [40.803312, -73.932799], [40.803362, -73.932929], [40.803422, -73.933089], [40.803052, -73.933349], [40.802762, -73.933559], [40.802194, -73.933966], [40.802194, -73.933966], [40.802052, -73.934069], [40.801972, -73.934129], [40.801442, -73.934519], [40.800812, -73.934979], [40.800541, -73.935177], [40.800541, -73.935177], [40.800182, -73.935439], [40.799562, -73.935899], [40.798922, -73.936339], [40.798642, -73.936548], [40.798642, -73.936548], [40.798292, -73.936809], [40.797672, -73.937279], [40.796992, -73.937769], [40.796699, -73.937982], [40.796699, -73.937982], [40.796292, -73.938279], [40.795952, -73.938519], [40.795822, -73.938619], [40.795062, -73.939189], [40.794802, -73.939379], [40.794802, -73.939379], [40.794462, -73.939629], [40.793812, -73.940109], [40.793569, -73.940282], [40.793569, -73.940282], [40.793182, -73.940559], [40.792542, -73.941029], [40.792022, -73.941409], [40.791892, -73.941499], [40.791648, -73.941675], [40.791648, -73.941675], [40.791282, -73.941939], [40.790622, -73.942429], [40.789942, -73.942919], [40.789292, -73.943399], [40.788732, -73.943819], [40.788682, -73.943849], [40.788572, -73.943925], [40.788572, -73.943925], [40.788552, -73.943939], [40.788032, -73.944329], [40.787962, -73.944379], [40.787512, -73.944709], [40.787432, -73.944769], [40.787331, -73.944843], [40.787331, -73.944843], [40.786802, -73.945229], [40.786702, -73.945299], [40.786162, -73.945699], [40.785672, -73.946049], [40.785042, -73.946502], [40.785042, -73.946502], [40.784922, -73.946589], [40.784599, -73.946826], [40.784599, -73.946826], [40.784242, -73.947089], [40.783652, -73.947519], [40.783562, -73.947589], [40.782942, -73.948029], [40.782651, -73.948246], [40.782651, -73.948246], [40.782312, -73.948499], [40.782152, -73.948619], [40.781682, -73.948959], [40.78142, -73.949149], [40.78142, -73.949149], [40.781052, -73.949419], [40.780432, -73.949879], [40.779802, -73.950339], [40.779528, -73.950534], [40.779528, -73.950534], [40.779172, -73.950789], [40.778552, -73.951279], [40.778349, -73.951414], [40.778349, -73.951414], [40.777862, -73.951739], [40.777182, -73.952229], [40.776552, -73.952699], [40.776278, -73.952896], [40.776278, -73.952896], [40.775912, -73.953159], [40.775282, -73.953629], [40.77503, -73.953813], [40.77503, -73.953813], [40.774652, -73.954089], [40.774012, -73.954549], [40.773332, -73.955059], [40.772728, -73.955488], [40.772728, -73.955488], [40.772642, -73.955549], [40.772012, -73.956009], [40.771372, -73.956479], [40.770742, -73.956939], [40.770439, -73.95716], [40.770439, -73.95716], [40.770112, -73.957399], [40.769472, -73.957889], [40.768782, -73.958379], [40.768706, -73.958434], [40.768706, -73.958434], [40.768132, -73.958849], [40.767482, -73.959319], [40.767306, -73.959444], [40.767306, -73.959444], [40.766862, -73.959759], [40.766232, -73.960229], [40.765966, -73.960422], [40.765966, -73.960422], [40.765602, -73.960689], [40.764982, -73.961139], [40.764882, -73.961209], [40.764642, -73.961385], [40.764642, -73.961385], [40.764352, -73.961599], [40.763732, -73.962049], [40.763692, -73.962079], [40.763447, -73.962257], [40.763447, -73.962257], [40.763102, -73.962509], [40.762482, -73.962969], [40.761852, -73.963429], [40.761497, -73.963693], [40.761497, -73.963693], [40.761422, -73.963749], [40.761222, -73.963889], [40.761052, -73.964019], [40.760932, -73.964109], [40.760812, -73.964199], [40.760602, -73.964349], [40.759972, -73.964819], [40.759342, -73.965269], [40.759292, -73.965309], [40.758632, -73.965799], [40.758409, -73.965959], [40.758409, -73.965959], [40.758022, -73.966239], [40.757382, -73.966699], [40.757128, -73.966885], [40.757128, -73.966885], [40.756782, -73.967139], [40.756132, -73.967619], [40.755502, -73.968079], [40.754862, -73.968539], [40.754599, -73.968729], [40.754599, -73.968729], [40.754242, -73.968989], [40.753622, -73.969439], [40.753002, -73.969899], [40.752872, -73.969999], [40.752452, -73.970301], [40.752452, -73.970301], [40.752372, -73.970359], [40.751752, -73.970809], [40.751122, -73.971279], [40.750492, -73.971729], [40.750202, -73.971939], [40.749802, -73.972229], [40.749216, -73.972659], [40.749216, -73.972659], [40.749162, -73.972699], [40.748542, -73.973149], [40.747932, -73.973589], [40.747614, -73.973826], [40.747614, -73.973826], [40.747302, -73.974059], [40.746682, -73.974509], [40.746592, -73.974569], [40.746512, -73.974629], [40.746442, -73.974679], [40.746362, -73.974739], [40.746156, -73.97489], [40.746156, -73.97489], [40.746062, -73.974959], [40.745712, -73.975219], [40.745452, -73.975409], [40.745102, -73.975659], [40.744782, -73.975899], [40.744382, -73.976189], [40.744102, -73.976389], [40.743812, -73.976598], [40.743812, -73.976598], [40.743492, -73.976829], [40.742872, -73.977279], [40.742614, -73.977466], [40.742614, -73.977466], [40.742252, -73.977729], [40.742162, -73.977789], [40.741642, -73.978179], [40.741089, -73.97858], [40.741089, -73.97858], [40.741022, -73.978629], [40.740402, -73.979069], [40.739782, -73.979529], [40.739172, -73.979989], [40.738912, -73.980174], [40.738912, -73.980174], [40.738822, -73.980239], [40.738542, -73.980439], [40.738292, -73.980599], [40.737882, -73.980869], [40.73751, -73.981127], [40.73751, -73.981127], [40.737192, -73.981349], [40.736552, -73.981819], [40.736012, -73.982209], [40.735719, -73.982426], [40.735719, -73.982426], [40.735702, -73.982439], [40.735382, -73.982669], [40.734842, -73.983119], [40.734252, -73.983549], [40.733985, -73.983741], [40.733985, -73.983741], [40.733932, -73.983779], [40.733692, -73.983959], [40.733022, -73.984439], [40.732469, -73.984845], [40.732469, -73.984845], [40.732342, -73.984939], [40.732102, -73.985109], [40.731652, -73.985439], [40.731012, -73.985909], [40.730767, -73.986089], [40.730767, -73.986089], [40.730632, -73.986189], [40.730372, -73.986379], [40.730022, -73.986629], [40.729772, -73.986809], [40.729182, -73.987239], [40.728867, -73.987464], [40.728867, -73.987464], [40.728582, -73.987669], [40.727982, -73.988119], [40.727392, -73.988539], [40.727135, -73.988723], [40.727135, -73.988723], [40.726782, -73.988979], [40.726182, -73.989429], [40.725572, -73.989869], [40.72532, -73.990051], [40.72532, -73.990051], [40.724922, -73.990339], [40.724272, -73.990809], [40.724032, -73.990979], [40.723702, -73.990979], [40.723562, -73.991039], [40.723512, -73.990879], [40.723402, -73.990479], [40.723379, -73.990401], [40.723379, -73.990401], [40.723352, -73.990309], [40.723092, -73.989439], [40.723042, -73.989269], [40.722862, -73.988679], [40.722782, -73.988779], [40.722682, -73.988859], [40.722552, -73.988909], [40.722468, -73.988942], [40.722468, -73.988942], [40.721672, -73.989259], [40.720522, -73.989829], [40.719396, -73.990415], [40.719396, -73.990415], [40.719312, -73.990459], [40.719202, -73.990509], [40.719162, -73.990529], [40.718332, -73.990959], [40.717412, -73.991429], [40.717112, -73.991581], [40.717112, -73.991581], [40.716232, -73.992029], [40.715112, -73.992609], [40.714839, -73.992753], [40.714839, -73.992753], [40.714752, -73.992799], [40.714652, -73.992839], [40.714542, -73.992849], [40.714352, -73.992819], [40.713832, -73.992749], [40.713162, -73.992649], [40.713032, -73.992629], [40.71263, -73.992568], [40.71263, -73.992568], [40.712442, -73.992539], [40.712382, -73.993269], [40.712382, -73.993329], [40.712362, -73.993639], [40.712362, -73.993679], [40.712352, -73.993769], [40.712302, -73.994359], [40.712267, -73.994735], [40.712267, -73.994735], [40.712062, -73.996939], [40.711984, -73.997583], [40.711984, -73.997583], [40.711962, -73.997769], [40.711902, -73.998399], [40.711872, -73.998679], [40.711862, -73.998809], [40.711809, -73.999421], [40.711809, -73.999421], [40.711792, -73.999619], [40.711782, -73.999709], [40.711472, -73.999999], [40.711262, -74.000219], [40.710942, -74.000539], [40.710765, -74.000685], [40.710765, -74.000685], [40.710652, -74.000779], [40.710422, -74.000939], [40.710182, -74.001119], [40.710012, -74.001259], [40.709802, -74.001419], [40.709752, -74.001459], [40.709682, -74.001509], [40.709602, -74.001569], [40.709552, -74.001609], [40.709512, -74.001639], [40.709472, -74.001679], [40.709343, -74.001837], [40.709343, -74.001837], [40.709132, -74.002099], [40.708822, -74.002489], [40.708292, -74.003169], [40.708102, -74.003419], [40.707982, -74.003539], [40.707555, -74.003934], [40.707555, -74.003934], [40.707432, -74.004049], [40.706852, -74.004999], [40.706545, -74.00543], [40.706545, -74.00543], [40.706362, -74.005689], [40.706192, -74.005929], [40.706132, -74.006019], [40.705622, -74.006739], [40.705172, -74.007399], [40.704662, -74.008119], [40.7046, -74.008211], [40.7046, -74.008211], [40.704202, -74.008799], [40.704072, -74.008989], [40.703823, -74.009358], [40.703823, -74.009358], [40.703722, -74.009509], [40.703652, -74.009609], [40.703582, -74.009719], [40.703332, -74.010099], [40.703262, -74.010249], [40.703212, -74.010429], [40.702952, -74.011499], [40.702107, -74.011263], [40.702107, -74.011263], [40.701772, -74.011169], [40.701642, -74.011759], [40.701552, -74.012189], [40.701549, -74.012199]],\n",
       "                {&quot;bubblingMouseEvents&quot;: true, &quot;color&quot;: &quot;blue&quot;, &quot;dashArray&quot;: null, &quot;dashOffset&quot;: null, &quot;fill&quot;: false, &quot;fillColor&quot;: &quot;blue&quot;, &quot;fillOpacity&quot;: 0.2, &quot;fillRule&quot;: &quot;evenodd&quot;, &quot;lineCap&quot;: &quot;round&quot;, &quot;lineJoin&quot;: &quot;round&quot;, &quot;noClip&quot;: false, &quot;opacity&quot;: 0.8, &quot;smoothFactor&quot;: 1.0, &quot;stroke&quot;: true, &quot;weight&quot;: 5}\n",
       "            ).addTo(map_06ca3044369ca7df786641f2333a5c4f);\n",
       "        \n",
       "    \n",
       "        var popup_72626faa2c66224e4935e473c8691a03 = L.popup({\n",
       "  &quot;maxWidth&quot;: &quot;100%&quot;,\n",
       "});\n",
       "\n",
       "        \n",
       "            \n",
       "                var html_57fc6f4c174b6736b55191409b75f035 = $(`&lt;div id=&quot;html_57fc6f4c174b6736b55191409b75f035&quot; style=&quot;width: 100.0%; height: 100.0%;&quot;&gt;M15 Bus Route&lt;/div&gt;`)[0];\n",
       "                popup_72626faa2c66224e4935e473c8691a03.setContent(html_57fc6f4c174b6736b55191409b75f035);\n",
       "            \n",
       "        \n",
       "\n",
       "        poly_line_78aeb928091015c02a6d54a8e565d263.bindPopup(popup_72626faa2c66224e4935e473c8691a03)\n",
       "        ;\n",
       "\n",
       "        \n",
       "    \n",
       "    \n",
       "            tile_layer_14deeabd8bad64fe75f20927df98b90e.addTo(map_06ca3044369ca7df786641f2333a5c4f);\n",
       "        \n",
       "    \n",
       "            tile_layer_14deeabd8bad64fe75f20927df98b90e.addTo(map_06ca3044369ca7df786641f2333a5c4f);\n",
       "        \n",
       "&lt;/script&gt;\n",
       "&lt;/html&gt;\" style=\"position:absolute;width:100%;height:100%;left:0;top:0;border:none !important;\" allowfullscreen webkitallowfullscreen mozallowfullscreen></iframe></div></div>"
      ],
      "text/plain": [
       "<folium.folium.Map at 0x324e84770>"
      ]
     },
     "execution_count": 91,
     "metadata": {},
     "output_type": "execute_result"
    }
   ],
   "source": [
    "m"
   ]
  },
  {
   "cell_type": "code",
   "execution_count": null,
   "id": "fa634b1f-7b93-4da6-b530-4f2bb054b37d",
   "metadata": {},
   "outputs": [
    {
     "name": "stdout",
     "output_type": "stream",
     "text": [
      "Found 312466 total violations for the M101 route.\n",
      "\n",
      "Interactive map of ALL M101 violations saved to 'm101_ALL_violation_hotspots.html'\n"
     ]
    }
   ],
   "source": [
    "m101_all_violations_ddf = ddf_violations[ddf_violations['Bus Route ID'] == 'M101']\n",
    "\n",
    "# 3. Compute to get a pandas DataFrame for plotting\n",
    "m101_all_violations = m101_all_violations_ddf.compute()\n",
    "print(f\"Found {len(m101_all_violations)} total violations for the M101 route.\")\n",
    "\n",
    "\n",
    "# 4. Create the Interactive Map with the new data\n",
    "if not m101_all_violations.empty:\n",
    "    m = folium.Map(location=[40.75, -73.98], zoom_start=12)\n",
    "\n",
    "    folium.PolyLine(\n",
    "        locations=route_coords,\n",
    "        color='blue',\n",
    "        weight=5,\n",
    "        opacity=0.8,\n",
    "        popup='M101 Bus Route'\n",
    "    ).add_to(m)\n",
    "\n",
    "    for idx, violation in m101_all_violations.iterrows():\n",
    "        folium.CircleMarker(\n",
    "            # Use the correct lat/lon column names\n",
    "            location=[violation['Violation Latitude'], violation['Violation Longitude']],\n",
    "            radius=4,\n",
    "            color='red',\n",
    "            fill=True,\n",
    "            fill_color='red',\n",
    "            fill_opacity=0.6,\n",
    "            popup=f\"Status: {violation['Violation Status']} on {violation['First Occurrence']}\"\n",
    "        ).add_to(m)\n",
    "\n",
    "    m.save(\"m101_ALL_violation_hotspots.html\")\n",
    "    print(\"\\nInteractive map of ALL M101 violations saved to 'm101_ALL_violation_hotspots.html'\")\n",
    "    \n",
    "    # Display the map in the notebook\n",
    "    display(m)\n",
    "else:\n",
    "    print(\"No violations found for the M101 route in the dataset.\")"
   ]
  },
  {
   "cell_type": "code",
   "execution_count": null,
   "id": "9f738be1-a735-438e-bca5-a4791b42d233",
   "metadata": {},
   "outputs": [],
   "source": [
    "m"
   ]
  },
  {
   "cell_type": "code",
   "execution_count": null,
   "id": "8a20ab43-ca73-4c7e-bd6a-0335872f3cee",
   "metadata": {},
   "outputs": [],
   "source": []
  }
 ],
 "metadata": {
  "kernelspec": {
   "display_name": "Python 3 (ipykernel)",
   "language": "python",
   "name": "python3"
  },
  "language_info": {
   "codemirror_mode": {
    "name": "ipython",
    "version": 3
   },
   "file_extension": ".py",
   "mimetype": "text/x-python",
   "name": "python",
   "nbconvert_exporter": "python",
   "pygments_lexer": "ipython3",
   "version": "3.12.6"
  }
 },
 "nbformat": 4,
 "nbformat_minor": 5
}
